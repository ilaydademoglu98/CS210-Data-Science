{
 "cells": [
  {
   "cell_type": "markdown",
   "metadata": {},
   "source": [
    "# CS210 Spring 2019 - Final Project\n",
    "\n",
    "### Group Members:\n",
    "##### Elif İpek Şahin\n",
    "##### İlayda Ademoğlu\n",
    "##### Zeynep Berksöz"
   ]
  },
  {
   "cell_type": "code",
   "execution_count": 3,
   "metadata": {},
   "outputs": [],
   "source": [
    "import pandas as pd\n",
    "import numpy as np\n",
    "import matplotlib.pyplot as plt\n",
    "from scipy import stats\n",
    "from datetime import datetime\n",
    "import seaborn as sns  # a visualization library based on matplotlib\n",
    "from datetime import datetime\n",
    "import csv\n",
    "\n",
    "import warnings\n",
    "warnings.filterwarnings('ignore')\n",
    "\n",
    "sns.set(style=\"darkgrid\")\n",
    "\n",
    "%matplotlib inline"
   ]
  },
  {
   "cell_type": "code",
   "execution_count": 4,
   "metadata": {},
   "outputs": [],
   "source": [
    "from os.path import join\n",
    "from pprint import pprint"
   ]
  },
  {
   "cell_type": "code",
   "execution_count": 5,
   "metadata": {},
   "outputs": [],
   "source": [
    "d_path = \"./data\"\n",
    "filename = \"NYPD_Complaint_Data_Historic.csv\"\n",
    "filename2 = \"nyc_census_tracts.csv\"\n",
    "\n",
    "df = pd.read_csv(join(d_path, filename))\n",
    "census_df = pd.read_csv(join(d_path, filename2))"
   ]
  },
  {
   "cell_type": "code",
   "execution_count": 6,
   "metadata": {},
   "outputs": [
    {
     "data": {
      "text/html": [
       "<div>\n",
       "<style scoped>\n",
       "    .dataframe tbody tr th:only-of-type {\n",
       "        vertical-align: middle;\n",
       "    }\n",
       "\n",
       "    .dataframe tbody tr th {\n",
       "        vertical-align: top;\n",
       "    }\n",
       "\n",
       "    .dataframe thead th {\n",
       "        text-align: right;\n",
       "    }\n",
       "</style>\n",
       "<table border=\"1\" class=\"dataframe\">\n",
       "  <thead>\n",
       "    <tr style=\"text-align: right;\">\n",
       "      <th></th>\n",
       "      <th>CensusTract</th>\n",
       "      <th>County</th>\n",
       "      <th>Borough</th>\n",
       "      <th>TotalPop</th>\n",
       "      <th>Men</th>\n",
       "      <th>Women</th>\n",
       "      <th>Hispanic</th>\n",
       "      <th>White</th>\n",
       "      <th>Black</th>\n",
       "      <th>Native</th>\n",
       "      <th>...</th>\n",
       "      <th>Walk</th>\n",
       "      <th>OtherTransp</th>\n",
       "      <th>WorkAtHome</th>\n",
       "      <th>MeanCommute</th>\n",
       "      <th>Employed</th>\n",
       "      <th>PrivateWork</th>\n",
       "      <th>PublicWork</th>\n",
       "      <th>SelfEmployed</th>\n",
       "      <th>FamilyWork</th>\n",
       "      <th>Unemployment</th>\n",
       "    </tr>\n",
       "  </thead>\n",
       "  <tbody>\n",
       "    <tr>\n",
       "      <th>0</th>\n",
       "      <td>36005000100</td>\n",
       "      <td>Bronx</td>\n",
       "      <td>Bronx</td>\n",
       "      <td>7703</td>\n",
       "      <td>7133</td>\n",
       "      <td>570</td>\n",
       "      <td>29.9</td>\n",
       "      <td>6.1</td>\n",
       "      <td>60.9</td>\n",
       "      <td>0.2</td>\n",
       "      <td>...</td>\n",
       "      <td>NaN</td>\n",
       "      <td>NaN</td>\n",
       "      <td>NaN</td>\n",
       "      <td>NaN</td>\n",
       "      <td>0</td>\n",
       "      <td>NaN</td>\n",
       "      <td>NaN</td>\n",
       "      <td>NaN</td>\n",
       "      <td>NaN</td>\n",
       "      <td>NaN</td>\n",
       "    </tr>\n",
       "    <tr>\n",
       "      <th>1</th>\n",
       "      <td>36005000200</td>\n",
       "      <td>Bronx</td>\n",
       "      <td>Bronx</td>\n",
       "      <td>5403</td>\n",
       "      <td>2659</td>\n",
       "      <td>2744</td>\n",
       "      <td>75.8</td>\n",
       "      <td>2.3</td>\n",
       "      <td>16.0</td>\n",
       "      <td>0.0</td>\n",
       "      <td>...</td>\n",
       "      <td>2.9</td>\n",
       "      <td>0.0</td>\n",
       "      <td>0.0</td>\n",
       "      <td>43.0</td>\n",
       "      <td>2308</td>\n",
       "      <td>80.8</td>\n",
       "      <td>16.2</td>\n",
       "      <td>2.9</td>\n",
       "      <td>0.0</td>\n",
       "      <td>7.7</td>\n",
       "    </tr>\n",
       "    <tr>\n",
       "      <th>2</th>\n",
       "      <td>36005000400</td>\n",
       "      <td>Bronx</td>\n",
       "      <td>Bronx</td>\n",
       "      <td>5915</td>\n",
       "      <td>2896</td>\n",
       "      <td>3019</td>\n",
       "      <td>62.7</td>\n",
       "      <td>3.6</td>\n",
       "      <td>30.7</td>\n",
       "      <td>0.0</td>\n",
       "      <td>...</td>\n",
       "      <td>1.4</td>\n",
       "      <td>0.5</td>\n",
       "      <td>2.1</td>\n",
       "      <td>45.0</td>\n",
       "      <td>2675</td>\n",
       "      <td>71.7</td>\n",
       "      <td>25.3</td>\n",
       "      <td>2.5</td>\n",
       "      <td>0.6</td>\n",
       "      <td>9.5</td>\n",
       "    </tr>\n",
       "    <tr>\n",
       "      <th>3</th>\n",
       "      <td>36005001600</td>\n",
       "      <td>Bronx</td>\n",
       "      <td>Bronx</td>\n",
       "      <td>5879</td>\n",
       "      <td>2558</td>\n",
       "      <td>3321</td>\n",
       "      <td>65.1</td>\n",
       "      <td>1.6</td>\n",
       "      <td>32.4</td>\n",
       "      <td>0.0</td>\n",
       "      <td>...</td>\n",
       "      <td>8.6</td>\n",
       "      <td>1.6</td>\n",
       "      <td>1.7</td>\n",
       "      <td>38.8</td>\n",
       "      <td>2120</td>\n",
       "      <td>75.0</td>\n",
       "      <td>21.3</td>\n",
       "      <td>3.8</td>\n",
       "      <td>0.0</td>\n",
       "      <td>8.7</td>\n",
       "    </tr>\n",
       "    <tr>\n",
       "      <th>4</th>\n",
       "      <td>36005001900</td>\n",
       "      <td>Bronx</td>\n",
       "      <td>Bronx</td>\n",
       "      <td>2591</td>\n",
       "      <td>1206</td>\n",
       "      <td>1385</td>\n",
       "      <td>55.4</td>\n",
       "      <td>9.0</td>\n",
       "      <td>29.0</td>\n",
       "      <td>0.0</td>\n",
       "      <td>...</td>\n",
       "      <td>3.0</td>\n",
       "      <td>2.4</td>\n",
       "      <td>6.2</td>\n",
       "      <td>45.4</td>\n",
       "      <td>1083</td>\n",
       "      <td>76.8</td>\n",
       "      <td>15.5</td>\n",
       "      <td>7.7</td>\n",
       "      <td>0.0</td>\n",
       "      <td>19.2</td>\n",
       "    </tr>\n",
       "  </tbody>\n",
       "</table>\n",
       "<p>5 rows × 36 columns</p>\n",
       "</div>"
      ],
      "text/plain": [
       "   CensusTract County Borough  TotalPop   Men  Women  Hispanic  White  Black  \\\n",
       "0  36005000100  Bronx   Bronx      7703  7133    570      29.9    6.1   60.9   \n",
       "1  36005000200  Bronx   Bronx      5403  2659   2744      75.8    2.3   16.0   \n",
       "2  36005000400  Bronx   Bronx      5915  2896   3019      62.7    3.6   30.7   \n",
       "3  36005001600  Bronx   Bronx      5879  2558   3321      65.1    1.6   32.4   \n",
       "4  36005001900  Bronx   Bronx      2591  1206   1385      55.4    9.0   29.0   \n",
       "\n",
       "   Native      ...       Walk  OtherTransp  WorkAtHome  MeanCommute  Employed  \\\n",
       "0     0.2      ...        NaN          NaN         NaN          NaN         0   \n",
       "1     0.0      ...        2.9          0.0         0.0         43.0      2308   \n",
       "2     0.0      ...        1.4          0.5         2.1         45.0      2675   \n",
       "3     0.0      ...        8.6          1.6         1.7         38.8      2120   \n",
       "4     0.0      ...        3.0          2.4         6.2         45.4      1083   \n",
       "\n",
       "   PrivateWork  PublicWork  SelfEmployed  FamilyWork  Unemployment  \n",
       "0          NaN         NaN           NaN         NaN           NaN  \n",
       "1         80.8        16.2           2.9         0.0           7.7  \n",
       "2         71.7        25.3           2.5         0.6           9.5  \n",
       "3         75.0        21.3           3.8         0.0           8.7  \n",
       "4         76.8        15.5           7.7         0.0          19.2  \n",
       "\n",
       "[5 rows x 36 columns]"
      ]
     },
     "execution_count": 6,
     "metadata": {},
     "output_type": "execute_result"
    }
   ],
   "source": [
    "census_df.head()"
   ]
  },
  {
   "cell_type": "code",
   "execution_count": 7,
   "metadata": {},
   "outputs": [
    {
     "data": {
      "text/plain": [
       "(2167, 36)"
      ]
     },
     "execution_count": 7,
     "metadata": {},
     "output_type": "execute_result"
    }
   ],
   "source": [
    "census_df.shape"
   ]
  },
  {
   "cell_type": "code",
   "execution_count": 8,
   "metadata": {},
   "outputs": [
    {
     "data": {
      "text/html": [
       "<div>\n",
       "<style scoped>\n",
       "    .dataframe tbody tr th:only-of-type {\n",
       "        vertical-align: middle;\n",
       "    }\n",
       "\n",
       "    .dataframe tbody tr th {\n",
       "        vertical-align: top;\n",
       "    }\n",
       "\n",
       "    .dataframe thead th {\n",
       "        text-align: right;\n",
       "    }\n",
       "</style>\n",
       "<table border=\"1\" class=\"dataframe\">\n",
       "  <thead>\n",
       "    <tr style=\"text-align: right;\">\n",
       "      <th></th>\n",
       "      <th>CMPLNT_NUM</th>\n",
       "      <th>CMPLNT_FR_DT</th>\n",
       "      <th>CMPLNT_FR_TM</th>\n",
       "      <th>CMPLNT_TO_DT</th>\n",
       "      <th>CMPLNT_TO_TM</th>\n",
       "      <th>RPT_DT</th>\n",
       "      <th>KY_CD</th>\n",
       "      <th>OFNS_DESC</th>\n",
       "      <th>PD_CD</th>\n",
       "      <th>PD_DESC</th>\n",
       "      <th>...</th>\n",
       "      <th>ADDR_PCT_CD</th>\n",
       "      <th>LOC_OF_OCCUR_DESC</th>\n",
       "      <th>PREM_TYP_DESC</th>\n",
       "      <th>PARKS_NM</th>\n",
       "      <th>HADEVELOPT</th>\n",
       "      <th>X_COORD_CD</th>\n",
       "      <th>Y_COORD_CD</th>\n",
       "      <th>Latitude</th>\n",
       "      <th>Longitude</th>\n",
       "      <th>Lat_Lon</th>\n",
       "    </tr>\n",
       "  </thead>\n",
       "  <tbody>\n",
       "    <tr>\n",
       "      <th>0</th>\n",
       "      <td>101109527</td>\n",
       "      <td>12/31/2015</td>\n",
       "      <td>23:45:00</td>\n",
       "      <td>NaN</td>\n",
       "      <td>NaN</td>\n",
       "      <td>12/31/2015</td>\n",
       "      <td>113</td>\n",
       "      <td>FORGERY</td>\n",
       "      <td>729.0</td>\n",
       "      <td>FORGERY,ETC.,UNCLASSIFIED-FELO</td>\n",
       "      <td>...</td>\n",
       "      <td>44.0</td>\n",
       "      <td>INSIDE</td>\n",
       "      <td>BAR/NIGHT CLUB</td>\n",
       "      <td>NaN</td>\n",
       "      <td>NaN</td>\n",
       "      <td>1007314.0</td>\n",
       "      <td>241257.0</td>\n",
       "      <td>40.828848</td>\n",
       "      <td>-73.916661</td>\n",
       "      <td>(40.828848333, -73.916661142)</td>\n",
       "    </tr>\n",
       "    <tr>\n",
       "      <th>1</th>\n",
       "      <td>153401121</td>\n",
       "      <td>12/31/2015</td>\n",
       "      <td>23:36:00</td>\n",
       "      <td>NaN</td>\n",
       "      <td>NaN</td>\n",
       "      <td>12/31/2015</td>\n",
       "      <td>101</td>\n",
       "      <td>MURDER &amp; NON-NEGL. MANSLAUGHTER</td>\n",
       "      <td>NaN</td>\n",
       "      <td>NaN</td>\n",
       "      <td>...</td>\n",
       "      <td>103.0</td>\n",
       "      <td>OUTSIDE</td>\n",
       "      <td>NaN</td>\n",
       "      <td>NaN</td>\n",
       "      <td>NaN</td>\n",
       "      <td>1043991.0</td>\n",
       "      <td>193406.0</td>\n",
       "      <td>40.697338</td>\n",
       "      <td>-73.784557</td>\n",
       "      <td>(40.697338138, -73.784556739)</td>\n",
       "    </tr>\n",
       "    <tr>\n",
       "      <th>2</th>\n",
       "      <td>569369778</td>\n",
       "      <td>12/31/2015</td>\n",
       "      <td>23:30:00</td>\n",
       "      <td>NaN</td>\n",
       "      <td>NaN</td>\n",
       "      <td>12/31/2015</td>\n",
       "      <td>117</td>\n",
       "      <td>DANGEROUS DRUGS</td>\n",
       "      <td>503.0</td>\n",
       "      <td>CONTROLLED SUBSTANCE,INTENT TO</td>\n",
       "      <td>...</td>\n",
       "      <td>28.0</td>\n",
       "      <td>NaN</td>\n",
       "      <td>OTHER</td>\n",
       "      <td>NaN</td>\n",
       "      <td>NaN</td>\n",
       "      <td>999463.0</td>\n",
       "      <td>231690.0</td>\n",
       "      <td>40.802607</td>\n",
       "      <td>-73.945052</td>\n",
       "      <td>(40.802606608, -73.945051911)</td>\n",
       "    </tr>\n",
       "    <tr>\n",
       "      <th>3</th>\n",
       "      <td>968417082</td>\n",
       "      <td>12/31/2015</td>\n",
       "      <td>23:30:00</td>\n",
       "      <td>NaN</td>\n",
       "      <td>NaN</td>\n",
       "      <td>12/31/2015</td>\n",
       "      <td>344</td>\n",
       "      <td>ASSAULT 3 &amp; RELATED OFFENSES</td>\n",
       "      <td>101.0</td>\n",
       "      <td>ASSAULT 3</td>\n",
       "      <td>...</td>\n",
       "      <td>105.0</td>\n",
       "      <td>INSIDE</td>\n",
       "      <td>RESIDENCE-HOUSE</td>\n",
       "      <td>NaN</td>\n",
       "      <td>NaN</td>\n",
       "      <td>1060183.0</td>\n",
       "      <td>177862.0</td>\n",
       "      <td>40.654549</td>\n",
       "      <td>-73.726339</td>\n",
       "      <td>(40.654549444, -73.726338791)</td>\n",
       "    </tr>\n",
       "    <tr>\n",
       "      <th>4</th>\n",
       "      <td>641637920</td>\n",
       "      <td>12/31/2015</td>\n",
       "      <td>23:25:00</td>\n",
       "      <td>12/31/2015</td>\n",
       "      <td>23:30:00</td>\n",
       "      <td>12/31/2015</td>\n",
       "      <td>344</td>\n",
       "      <td>ASSAULT 3 &amp; RELATED OFFENSES</td>\n",
       "      <td>101.0</td>\n",
       "      <td>ASSAULT 3</td>\n",
       "      <td>...</td>\n",
       "      <td>13.0</td>\n",
       "      <td>FRONT OF</td>\n",
       "      <td>OTHER</td>\n",
       "      <td>NaN</td>\n",
       "      <td>NaN</td>\n",
       "      <td>987606.0</td>\n",
       "      <td>208148.0</td>\n",
       "      <td>40.738002</td>\n",
       "      <td>-73.987891</td>\n",
       "      <td>(40.7380024, -73.98789129)</td>\n",
       "    </tr>\n",
       "  </tbody>\n",
       "</table>\n",
       "<p>5 rows × 24 columns</p>\n",
       "</div>"
      ],
      "text/plain": [
       "   CMPLNT_NUM CMPLNT_FR_DT CMPLNT_FR_TM CMPLNT_TO_DT CMPLNT_TO_TM      RPT_DT  \\\n",
       "0   101109527   12/31/2015     23:45:00          NaN          NaN  12/31/2015   \n",
       "1   153401121   12/31/2015     23:36:00          NaN          NaN  12/31/2015   \n",
       "2   569369778   12/31/2015     23:30:00          NaN          NaN  12/31/2015   \n",
       "3   968417082   12/31/2015     23:30:00          NaN          NaN  12/31/2015   \n",
       "4   641637920   12/31/2015     23:25:00   12/31/2015     23:30:00  12/31/2015   \n",
       "\n",
       "   KY_CD                        OFNS_DESC  PD_CD  \\\n",
       "0    113                          FORGERY  729.0   \n",
       "1    101  MURDER & NON-NEGL. MANSLAUGHTER    NaN   \n",
       "2    117                  DANGEROUS DRUGS  503.0   \n",
       "3    344     ASSAULT 3 & RELATED OFFENSES  101.0   \n",
       "4    344     ASSAULT 3 & RELATED OFFENSES  101.0   \n",
       "\n",
       "                          PD_DESC              ...               ADDR_PCT_CD  \\\n",
       "0  FORGERY,ETC.,UNCLASSIFIED-FELO              ...                      44.0   \n",
       "1                             NaN              ...                     103.0   \n",
       "2  CONTROLLED SUBSTANCE,INTENT TO              ...                      28.0   \n",
       "3                       ASSAULT 3              ...                     105.0   \n",
       "4                       ASSAULT 3              ...                      13.0   \n",
       "\n",
       "  LOC_OF_OCCUR_DESC    PREM_TYP_DESC PARKS_NM  HADEVELOPT X_COORD_CD  \\\n",
       "0            INSIDE   BAR/NIGHT CLUB      NaN         NaN  1007314.0   \n",
       "1           OUTSIDE              NaN      NaN         NaN  1043991.0   \n",
       "2               NaN            OTHER      NaN         NaN   999463.0   \n",
       "3            INSIDE  RESIDENCE-HOUSE      NaN         NaN  1060183.0   \n",
       "4          FRONT OF            OTHER      NaN         NaN   987606.0   \n",
       "\n",
       "  Y_COORD_CD   Latitude  Longitude                        Lat_Lon  \n",
       "0   241257.0  40.828848 -73.916661  (40.828848333, -73.916661142)  \n",
       "1   193406.0  40.697338 -73.784557  (40.697338138, -73.784556739)  \n",
       "2   231690.0  40.802607 -73.945052  (40.802606608, -73.945051911)  \n",
       "3   177862.0  40.654549 -73.726339  (40.654549444, -73.726338791)  \n",
       "4   208148.0  40.738002 -73.987891     (40.7380024, -73.98789129)  \n",
       "\n",
       "[5 rows x 24 columns]"
      ]
     },
     "execution_count": 8,
     "metadata": {},
     "output_type": "execute_result"
    }
   ],
   "source": [
    "df.head()"
   ]
  },
  {
   "cell_type": "markdown",
   "metadata": {},
   "source": [
    "# Project Description"
   ]
  },
  {
   "cell_type": "markdown",
   "metadata": {},
   "source": [
    "At the end, to analyze our data we will look at relations of crimes and income levels. We will also try to find relationships between unemployement retes and crime rates, job description types and crime rates, and see if common prejudices about these are correct. We will also analyze the relationships between drugs and crimes."
   ]
  },
  {
   "cell_type": "markdown",
   "metadata": {},
   "source": [
    "In our research, we will try to find answers to these questions:\n",
    "\n",
    "- Which category of crimes are most frequent?\n",
    "- Is there a relation between crimes and people's income? \n",
    "- Is there a relation between crimes and employment status or type of profession?\n",
    "- Is it possible to guess people's income according to some features?\n",
    "- How many of the crimes are a result of drug usage?\n",
    "- In which locations in New York, crime rates are frequent?\n",
    "- By looking at the data of crimes related drugs, can we find a relation between certain drug kinds and crime specifications?\n",
    "- What is the place of drug related crimes among all other crimes?"
   ]
  },
  {
   "cell_type": "markdown",
   "metadata": {},
   "source": [
    "# Dataset"
   ]
  },
  {
   "cell_type": "markdown",
   "metadata": {},
   "source": [
    "We obtained the dataset from Kaggle as csv file. This dataset includes the crimes in New York City between 2014-2015. This dataset has 25 attributes and 1048575 crime cases that are presented in the dataset. Most of the attributes are of object and float data types."
   ]
  },
  {
   "cell_type": "code",
   "execution_count": 9,
   "metadata": {},
   "outputs": [
    {
     "name": "stdout",
     "output_type": "stream",
     "text": [
      "Number of row: 1048575, Number of columns: 24\n"
     ]
    }
   ],
   "source": [
    "num_rows,num_cols = df.shape\n",
    "print(\"Number of row: {}, Number of columns: {}\".format(num_rows,num_cols))"
   ]
  },
  {
   "cell_type": "markdown",
   "metadata": {},
   "source": [
    "There are 1048575 crime cases."
   ]
  },
  {
   "cell_type": "code",
   "execution_count": 10,
   "metadata": {},
   "outputs": [
    {
     "data": {
      "text/plain": [
       "(69,)"
      ]
     },
     "execution_count": 10,
     "metadata": {},
     "output_type": "execute_result"
    }
   ],
   "source": [
    "df[\"OFNS_DESC\"].unique().shape  #Getting unique crime count"
   ]
  },
  {
   "cell_type": "markdown",
   "metadata": {},
   "source": [
    "There are 69 unique crime types for example; dangereous drugs, forgery, assault..."
   ]
  },
  {
   "cell_type": "code",
   "execution_count": 11,
   "metadata": {},
   "outputs": [
    {
     "data": {
      "text/plain": [
       "CMPLNT_NUM             int64\n",
       "CMPLNT_FR_DT          object\n",
       "CMPLNT_FR_TM          object\n",
       "CMPLNT_TO_DT          object\n",
       "CMPLNT_TO_TM          object\n",
       "RPT_DT                object\n",
       "KY_CD                  int64\n",
       "OFNS_DESC             object\n",
       "PD_CD                float64\n",
       "PD_DESC               object\n",
       "CRM_ATPT_CPTD_CD      object\n",
       "LAW_CAT_CD            object\n",
       "JURIS_DESC            object\n",
       "BORO_NM               object\n",
       "ADDR_PCT_CD          float64\n",
       "LOC_OF_OCCUR_DESC     object\n",
       "PREM_TYP_DESC         object\n",
       "PARKS_NM              object\n",
       "HADEVELOPT            object\n",
       "X_COORD_CD           float64\n",
       "Y_COORD_CD           float64\n",
       "Latitude             float64\n",
       "Longitude            float64\n",
       "Lat_Lon               object\n",
       "dtype: object"
      ]
     },
     "execution_count": 11,
     "metadata": {},
     "output_type": "execute_result"
    }
   ],
   "source": [
    "df.dtypes"
   ]
  },
  {
   "cell_type": "code",
   "execution_count": 12,
   "metadata": {},
   "outputs": [
    {
     "data": {
      "text/plain": [
       "CensusTract          int64\n",
       "County              object\n",
       "Borough             object\n",
       "TotalPop             int64\n",
       "Men                  int64\n",
       "Women                int64\n",
       "Hispanic           float64\n",
       "White              float64\n",
       "Black              float64\n",
       "Native             float64\n",
       "Asian              float64\n",
       "Citizen              int64\n",
       "Income             float64\n",
       "IncomeErr          float64\n",
       "IncomePerCap       float64\n",
       "IncomePerCapErr    float64\n",
       "Poverty            float64\n",
       "ChildPoverty       float64\n",
       "Professional       float64\n",
       "Service            float64\n",
       "Office             float64\n",
       "Construction       float64\n",
       "Production         float64\n",
       "Drive              float64\n",
       "Carpool            float64\n",
       "Transit            float64\n",
       "Walk               float64\n",
       "OtherTransp        float64\n",
       "WorkAtHome         float64\n",
       "MeanCommute        float64\n",
       "Employed             int64\n",
       "PrivateWork        float64\n",
       "PublicWork         float64\n",
       "SelfEmployed       float64\n",
       "FamilyWork         float64\n",
       "Unemployment       float64\n",
       "dtype: object"
      ]
     },
     "execution_count": 12,
     "metadata": {},
     "output_type": "execute_result"
    }
   ],
   "source": [
    "census_df.dtypes"
   ]
  },
  {
   "cell_type": "code",
   "execution_count": 13,
   "metadata": {},
   "outputs": [
    {
     "data": {
      "text/html": [
       "<div>\n",
       "<style scoped>\n",
       "    .dataframe tbody tr th:only-of-type {\n",
       "        vertical-align: middle;\n",
       "    }\n",
       "\n",
       "    .dataframe tbody tr th {\n",
       "        vertical-align: top;\n",
       "    }\n",
       "\n",
       "    .dataframe thead th {\n",
       "        text-align: right;\n",
       "    }\n",
       "</style>\n",
       "<table border=\"1\" class=\"dataframe\">\n",
       "  <thead>\n",
       "    <tr style=\"text-align: right;\">\n",
       "      <th></th>\n",
       "      <th>CMPLNT_NUM</th>\n",
       "      <th>KY_CD</th>\n",
       "      <th>PD_CD</th>\n",
       "      <th>ADDR_PCT_CD</th>\n",
       "      <th>X_COORD_CD</th>\n",
       "      <th>Y_COORD_CD</th>\n",
       "      <th>Latitude</th>\n",
       "      <th>Longitude</th>\n",
       "    </tr>\n",
       "  </thead>\n",
       "  <tbody>\n",
       "    <tr>\n",
       "      <th>count</th>\n",
       "      <td>1.048575e+06</td>\n",
       "      <td>1.048575e+06</td>\n",
       "      <td>1.047842e+06</td>\n",
       "      <td>1.048574e+06</td>\n",
       "      <td>1.016158e+06</td>\n",
       "      <td>1.016158e+06</td>\n",
       "      <td>1.016158e+06</td>\n",
       "      <td>1.016158e+06</td>\n",
       "    </tr>\n",
       "    <tr>\n",
       "      <th>mean</th>\n",
       "      <td>5.497027e+08</td>\n",
       "      <td>2.953382e+02</td>\n",
       "      <td>4.099135e+02</td>\n",
       "      <td>6.380729e+01</td>\n",
       "      <td>1.004983e+06</td>\n",
       "      <td>2.067818e+05</td>\n",
       "      <td>4.073420e+01</td>\n",
       "      <td>-7.392516e+01</td>\n",
       "    </tr>\n",
       "    <tr>\n",
       "      <th>std</th>\n",
       "      <td>2.598666e+08</td>\n",
       "      <td>1.505240e+02</td>\n",
       "      <td>2.192328e+02</td>\n",
       "      <td>3.434066e+01</td>\n",
       "      <td>2.146524e+04</td>\n",
       "      <td>3.043238e+04</td>\n",
       "      <td>8.353300e-02</td>\n",
       "      <td>7.741049e-02</td>\n",
       "    </tr>\n",
       "    <tr>\n",
       "      <th>min</th>\n",
       "      <td>1.000007e+08</td>\n",
       "      <td>1.010000e+02</td>\n",
       "      <td>1.010000e+02</td>\n",
       "      <td>1.000000e+00</td>\n",
       "      <td>9.133190e+05</td>\n",
       "      <td>1.210800e+05</td>\n",
       "      <td>4.049877e+01</td>\n",
       "      <td>-7.425508e+01</td>\n",
       "    </tr>\n",
       "    <tr>\n",
       "      <th>25%</th>\n",
       "      <td>3.244583e+08</td>\n",
       "      <td>1.170000e+02</td>\n",
       "      <td>2.540000e+02</td>\n",
       "      <td>4.000000e+01</td>\n",
       "      <td>9.919982e+05</td>\n",
       "      <td>1.839220e+05</td>\n",
       "      <td>4.067144e+01</td>\n",
       "      <td>-7.397206e+01</td>\n",
       "    </tr>\n",
       "    <tr>\n",
       "      <th>50%</th>\n",
       "      <td>5.494480e+08</td>\n",
       "      <td>3.410000e+02</td>\n",
       "      <td>3.570000e+02</td>\n",
       "      <td>6.600000e+01</td>\n",
       "      <td>1.004598e+06</td>\n",
       "      <td>2.053300e+05</td>\n",
       "      <td>4.073021e+01</td>\n",
       "      <td>-7.392661e+01</td>\n",
       "    </tr>\n",
       "    <tr>\n",
       "      <th>75%</th>\n",
       "      <td>7.746526e+08</td>\n",
       "      <td>3.510000e+02</td>\n",
       "      <td>6.370000e+02</td>\n",
       "      <td>9.400000e+01</td>\n",
       "      <td>1.016552e+06</td>\n",
       "      <td>2.348090e+05</td>\n",
       "      <td>4.081116e+01</td>\n",
       "      <td>-7.388336e+01</td>\n",
       "    </tr>\n",
       "    <tr>\n",
       "      <th>max</th>\n",
       "      <td>9.999996e+08</td>\n",
       "      <td>8.810000e+02</td>\n",
       "      <td>9.750000e+02</td>\n",
       "      <td>1.230000e+02</td>\n",
       "      <td>1.067226e+06</td>\n",
       "      <td>2.718200e+05</td>\n",
       "      <td>4.091272e+01</td>\n",
       "      <td>-7.370058e+01</td>\n",
       "    </tr>\n",
       "  </tbody>\n",
       "</table>\n",
       "</div>"
      ],
      "text/plain": [
       "         CMPLNT_NUM         KY_CD         PD_CD   ADDR_PCT_CD    X_COORD_CD  \\\n",
       "count  1.048575e+06  1.048575e+06  1.047842e+06  1.048574e+06  1.016158e+06   \n",
       "mean   5.497027e+08  2.953382e+02  4.099135e+02  6.380729e+01  1.004983e+06   \n",
       "std    2.598666e+08  1.505240e+02  2.192328e+02  3.434066e+01  2.146524e+04   \n",
       "min    1.000007e+08  1.010000e+02  1.010000e+02  1.000000e+00  9.133190e+05   \n",
       "25%    3.244583e+08  1.170000e+02  2.540000e+02  4.000000e+01  9.919982e+05   \n",
       "50%    5.494480e+08  3.410000e+02  3.570000e+02  6.600000e+01  1.004598e+06   \n",
       "75%    7.746526e+08  3.510000e+02  6.370000e+02  9.400000e+01  1.016552e+06   \n",
       "max    9.999996e+08  8.810000e+02  9.750000e+02  1.230000e+02  1.067226e+06   \n",
       "\n",
       "         Y_COORD_CD      Latitude     Longitude  \n",
       "count  1.016158e+06  1.016158e+06  1.016158e+06  \n",
       "mean   2.067818e+05  4.073420e+01 -7.392516e+01  \n",
       "std    3.043238e+04  8.353300e-02  7.741049e-02  \n",
       "min    1.210800e+05  4.049877e+01 -7.425508e+01  \n",
       "25%    1.839220e+05  4.067144e+01 -7.397206e+01  \n",
       "50%    2.053300e+05  4.073021e+01 -7.392661e+01  \n",
       "75%    2.348090e+05  4.081116e+01 -7.388336e+01  \n",
       "max    2.718200e+05  4.091272e+01 -7.370058e+01  "
      ]
     },
     "execution_count": 13,
     "metadata": {},
     "output_type": "execute_result"
    }
   ],
   "source": [
    "df.describe()"
   ]
  },
  {
   "cell_type": "code",
   "execution_count": 14,
   "metadata": {},
   "outputs": [
    {
     "data": {
      "text/html": [
       "<div>\n",
       "<style scoped>\n",
       "    .dataframe tbody tr th:only-of-type {\n",
       "        vertical-align: middle;\n",
       "    }\n",
       "\n",
       "    .dataframe tbody tr th {\n",
       "        vertical-align: top;\n",
       "    }\n",
       "\n",
       "    .dataframe thead th {\n",
       "        text-align: right;\n",
       "    }\n",
       "</style>\n",
       "<table border=\"1\" class=\"dataframe\">\n",
       "  <thead>\n",
       "    <tr style=\"text-align: right;\">\n",
       "      <th></th>\n",
       "      <th>CensusTract</th>\n",
       "      <th>TotalPop</th>\n",
       "      <th>Men</th>\n",
       "      <th>Women</th>\n",
       "      <th>Hispanic</th>\n",
       "      <th>White</th>\n",
       "      <th>Black</th>\n",
       "      <th>Native</th>\n",
       "      <th>Asian</th>\n",
       "      <th>Citizen</th>\n",
       "      <th>...</th>\n",
       "      <th>Walk</th>\n",
       "      <th>OtherTransp</th>\n",
       "      <th>WorkAtHome</th>\n",
       "      <th>MeanCommute</th>\n",
       "      <th>Employed</th>\n",
       "      <th>PrivateWork</th>\n",
       "      <th>PublicWork</th>\n",
       "      <th>SelfEmployed</th>\n",
       "      <th>FamilyWork</th>\n",
       "      <th>Unemployment</th>\n",
       "    </tr>\n",
       "  </thead>\n",
       "  <tbody>\n",
       "    <tr>\n",
       "      <th>count</th>\n",
       "      <td>2.167000e+03</td>\n",
       "      <td>2167.000000</td>\n",
       "      <td>2167.000000</td>\n",
       "      <td>2167.000000</td>\n",
       "      <td>2128.000000</td>\n",
       "      <td>2128.000000</td>\n",
       "      <td>2128.000000</td>\n",
       "      <td>2128.000000</td>\n",
       "      <td>2128.000000</td>\n",
       "      <td>2167.000000</td>\n",
       "      <td>...</td>\n",
       "      <td>2124.000000</td>\n",
       "      <td>2124.000000</td>\n",
       "      <td>2124.000000</td>\n",
       "      <td>2106.000000</td>\n",
       "      <td>2167.000000</td>\n",
       "      <td>2124.000000</td>\n",
       "      <td>2124.00000</td>\n",
       "      <td>2124.000000</td>\n",
       "      <td>2124.000000</td>\n",
       "      <td>2125.000000</td>\n",
       "    </tr>\n",
       "    <tr>\n",
       "      <th>mean</th>\n",
       "      <td>3.605476e+10</td>\n",
       "      <td>3888.667743</td>\n",
       "      <td>1852.812183</td>\n",
       "      <td>2035.855561</td>\n",
       "      <td>26.624671</td>\n",
       "      <td>33.055827</td>\n",
       "      <td>23.950799</td>\n",
       "      <td>0.198590</td>\n",
       "      <td>13.442622</td>\n",
       "      <td>2436.468389</td>\n",
       "      <td>...</td>\n",
       "      <td>9.048070</td>\n",
       "      <td>2.306921</td>\n",
       "      <td>3.749105</td>\n",
       "      <td>40.831576</td>\n",
       "      <td>1813.498385</td>\n",
       "      <td>79.536205</td>\n",
       "      <td>14.19355</td>\n",
       "      <td>6.151271</td>\n",
       "      <td>0.118644</td>\n",
       "      <td>9.757788</td>\n",
       "    </tr>\n",
       "    <tr>\n",
       "      <th>std</th>\n",
       "      <td>2.594875e+07</td>\n",
       "      <td>2240.050968</td>\n",
       "      <td>1063.921420</td>\n",
       "      <td>1212.765249</td>\n",
       "      <td>22.662106</td>\n",
       "      <td>30.421463</td>\n",
       "      <td>29.476758</td>\n",
       "      <td>0.700418</td>\n",
       "      <td>16.446275</td>\n",
       "      <td>1538.399585</td>\n",
       "      <td>...</td>\n",
       "      <td>9.623892</td>\n",
       "      <td>2.872501</td>\n",
       "      <td>4.560174</td>\n",
       "      <td>7.105916</td>\n",
       "      <td>1180.593180</td>\n",
       "      <td>6.923979</td>\n",
       "      <td>7.23155</td>\n",
       "      <td>3.851846</td>\n",
       "      <td>0.391563</td>\n",
       "      <td>5.786948</td>\n",
       "    </tr>\n",
       "    <tr>\n",
       "      <th>min</th>\n",
       "      <td>3.600500e+10</td>\n",
       "      <td>0.000000</td>\n",
       "      <td>0.000000</td>\n",
       "      <td>0.000000</td>\n",
       "      <td>0.000000</td>\n",
       "      <td>0.000000</td>\n",
       "      <td>0.000000</td>\n",
       "      <td>0.000000</td>\n",
       "      <td>0.000000</td>\n",
       "      <td>0.000000</td>\n",
       "      <td>...</td>\n",
       "      <td>0.000000</td>\n",
       "      <td>0.000000</td>\n",
       "      <td>0.000000</td>\n",
       "      <td>15.200000</td>\n",
       "      <td>0.000000</td>\n",
       "      <td>38.600000</td>\n",
       "      <td>0.00000</td>\n",
       "      <td>0.000000</td>\n",
       "      <td>0.000000</td>\n",
       "      <td>0.000000</td>\n",
       "    </tr>\n",
       "    <tr>\n",
       "      <th>25%</th>\n",
       "      <td>3.604703e+10</td>\n",
       "      <td>2359.500000</td>\n",
       "      <td>1113.000000</td>\n",
       "      <td>1224.500000</td>\n",
       "      <td>9.000000</td>\n",
       "      <td>4.100000</td>\n",
       "      <td>1.500000</td>\n",
       "      <td>0.000000</td>\n",
       "      <td>2.100000</td>\n",
       "      <td>1446.000000</td>\n",
       "      <td>...</td>\n",
       "      <td>3.300000</td>\n",
       "      <td>0.500000</td>\n",
       "      <td>1.300000</td>\n",
       "      <td>37.200000</td>\n",
       "      <td>1052.500000</td>\n",
       "      <td>75.000000</td>\n",
       "      <td>8.80000</td>\n",
       "      <td>3.500000</td>\n",
       "      <td>0.000000</td>\n",
       "      <td>5.900000</td>\n",
       "    </tr>\n",
       "    <tr>\n",
       "      <th>50%</th>\n",
       "      <td>3.604712e+10</td>\n",
       "      <td>3550.000000</td>\n",
       "      <td>1699.000000</td>\n",
       "      <td>1848.000000</td>\n",
       "      <td>18.400000</td>\n",
       "      <td>22.950000</td>\n",
       "      <td>7.800000</td>\n",
       "      <td>0.000000</td>\n",
       "      <td>6.700000</td>\n",
       "      <td>2140.000000</td>\n",
       "      <td>...</td>\n",
       "      <td>6.500000</td>\n",
       "      <td>1.500000</td>\n",
       "      <td>2.800000</td>\n",
       "      <td>41.400000</td>\n",
       "      <td>1579.000000</td>\n",
       "      <td>79.900000</td>\n",
       "      <td>13.30000</td>\n",
       "      <td>5.600000</td>\n",
       "      <td>0.000000</td>\n",
       "      <td>8.800000</td>\n",
       "    </tr>\n",
       "    <tr>\n",
       "      <th>75%</th>\n",
       "      <td>3.608103e+10</td>\n",
       "      <td>4957.500000</td>\n",
       "      <td>2360.500000</td>\n",
       "      <td>2571.500000</td>\n",
       "      <td>39.900000</td>\n",
       "      <td>60.100000</td>\n",
       "      <td>39.075000</td>\n",
       "      <td>0.000000</td>\n",
       "      <td>18.925000</td>\n",
       "      <td>2976.000000</td>\n",
       "      <td>...</td>\n",
       "      <td>10.800000</td>\n",
       "      <td>3.200000</td>\n",
       "      <td>5.100000</td>\n",
       "      <td>45.375000</td>\n",
       "      <td>2273.500000</td>\n",
       "      <td>84.400000</td>\n",
       "      <td>18.70000</td>\n",
       "      <td>8.200000</td>\n",
       "      <td>0.000000</td>\n",
       "      <td>12.600000</td>\n",
       "    </tr>\n",
       "    <tr>\n",
       "      <th>max</th>\n",
       "      <td>3.608599e+10</td>\n",
       "      <td>28926.000000</td>\n",
       "      <td>13460.000000</td>\n",
       "      <td>15466.000000</td>\n",
       "      <td>100.000000</td>\n",
       "      <td>100.000000</td>\n",
       "      <td>100.000000</td>\n",
       "      <td>11.300000</td>\n",
       "      <td>89.800000</td>\n",
       "      <td>22905.000000</td>\n",
       "      <td>...</td>\n",
       "      <td>100.000000</td>\n",
       "      <td>55.600000</td>\n",
       "      <td>100.000000</td>\n",
       "      <td>70.500000</td>\n",
       "      <td>12780.000000</td>\n",
       "      <td>100.000000</td>\n",
       "      <td>53.70000</td>\n",
       "      <td>61.400000</td>\n",
       "      <td>3.900000</td>\n",
       "      <td>100.000000</td>\n",
       "    </tr>\n",
       "  </tbody>\n",
       "</table>\n",
       "<p>8 rows × 34 columns</p>\n",
       "</div>"
      ],
      "text/plain": [
       "        CensusTract      TotalPop           Men         Women     Hispanic  \\\n",
       "count  2.167000e+03   2167.000000   2167.000000   2167.000000  2128.000000   \n",
       "mean   3.605476e+10   3888.667743   1852.812183   2035.855561    26.624671   \n",
       "std    2.594875e+07   2240.050968   1063.921420   1212.765249    22.662106   \n",
       "min    3.600500e+10      0.000000      0.000000      0.000000     0.000000   \n",
       "25%    3.604703e+10   2359.500000   1113.000000   1224.500000     9.000000   \n",
       "50%    3.604712e+10   3550.000000   1699.000000   1848.000000    18.400000   \n",
       "75%    3.608103e+10   4957.500000   2360.500000   2571.500000    39.900000   \n",
       "max    3.608599e+10  28926.000000  13460.000000  15466.000000   100.000000   \n",
       "\n",
       "             White        Black       Native        Asian       Citizen  \\\n",
       "count  2128.000000  2128.000000  2128.000000  2128.000000   2167.000000   \n",
       "mean     33.055827    23.950799     0.198590    13.442622   2436.468389   \n",
       "std      30.421463    29.476758     0.700418    16.446275   1538.399585   \n",
       "min       0.000000     0.000000     0.000000     0.000000      0.000000   \n",
       "25%       4.100000     1.500000     0.000000     2.100000   1446.000000   \n",
       "50%      22.950000     7.800000     0.000000     6.700000   2140.000000   \n",
       "75%      60.100000    39.075000     0.000000    18.925000   2976.000000   \n",
       "max     100.000000   100.000000    11.300000    89.800000  22905.000000   \n",
       "\n",
       "           ...              Walk  OtherTransp   WorkAtHome  MeanCommute  \\\n",
       "count      ...       2124.000000  2124.000000  2124.000000  2106.000000   \n",
       "mean       ...          9.048070     2.306921     3.749105    40.831576   \n",
       "std        ...          9.623892     2.872501     4.560174     7.105916   \n",
       "min        ...          0.000000     0.000000     0.000000    15.200000   \n",
       "25%        ...          3.300000     0.500000     1.300000    37.200000   \n",
       "50%        ...          6.500000     1.500000     2.800000    41.400000   \n",
       "75%        ...         10.800000     3.200000     5.100000    45.375000   \n",
       "max        ...        100.000000    55.600000   100.000000    70.500000   \n",
       "\n",
       "           Employed  PrivateWork  PublicWork  SelfEmployed   FamilyWork  \\\n",
       "count   2167.000000  2124.000000  2124.00000   2124.000000  2124.000000   \n",
       "mean    1813.498385    79.536205    14.19355      6.151271     0.118644   \n",
       "std     1180.593180     6.923979     7.23155      3.851846     0.391563   \n",
       "min        0.000000    38.600000     0.00000      0.000000     0.000000   \n",
       "25%     1052.500000    75.000000     8.80000      3.500000     0.000000   \n",
       "50%     1579.000000    79.900000    13.30000      5.600000     0.000000   \n",
       "75%     2273.500000    84.400000    18.70000      8.200000     0.000000   \n",
       "max    12780.000000   100.000000    53.70000     61.400000     3.900000   \n",
       "\n",
       "       Unemployment  \n",
       "count   2125.000000  \n",
       "mean       9.757788  \n",
       "std        5.786948  \n",
       "min        0.000000  \n",
       "25%        5.900000  \n",
       "50%        8.800000  \n",
       "75%       12.600000  \n",
       "max      100.000000  \n",
       "\n",
       "[8 rows x 34 columns]"
      ]
     },
     "execution_count": 14,
     "metadata": {},
     "output_type": "execute_result"
    }
   ],
   "source": [
    "census_df.describe()"
   ]
  },
  {
   "cell_type": "markdown",
   "metadata": {},
   "source": [
    "# Preprocessing"
   ]
  },
  {
   "cell_type": "markdown",
   "metadata": {},
   "source": [
    "We will deal with NaN values and determine how many of them are exist in each attribute. We will check if there exist any column to be added"
   ]
  },
  {
   "cell_type": "code",
   "execution_count": 15,
   "metadata": {},
   "outputs": [
    {
     "data": {
      "text/plain": [
       "CMPLNT_NUM                 0\n",
       "CMPLNT_FR_DT              65\n",
       "CMPLNT_FR_TM               0\n",
       "CMPLNT_TO_DT          205959\n",
       "CMPLNT_TO_TM          205573\n",
       "RPT_DT                     0\n",
       "KY_CD                      0\n",
       "OFNS_DESC               2880\n",
       "PD_CD                    733\n",
       "PD_DESC                  733\n",
       "CRM_ATPT_CPTD_CD           1\n",
       "LAW_CAT_CD                 0\n",
       "JURIS_DESC                 0\n",
       "BORO_NM                    0\n",
       "ADDR_PCT_CD                1\n",
       "LOC_OF_OCCUR_DESC     217752\n",
       "PREM_TYP_DESC           4689\n",
       "PARKS_NM             1040976\n",
       "HADEVELOPT            996803\n",
       "X_COORD_CD             32417\n",
       "Y_COORD_CD             32417\n",
       "Latitude               32417\n",
       "Longitude              32417\n",
       "Lat_Lon                32417\n",
       "dtype: int64"
      ]
     },
     "execution_count": 15,
     "metadata": {},
     "output_type": "execute_result"
    }
   ],
   "source": [
    "df.isnull().sum() #NaN counts in each column"
   ]
  },
  {
   "cell_type": "code",
   "execution_count": 16,
   "metadata": {},
   "outputs": [
    {
     "data": {
      "text/plain": [
       "CMPLNT_NUM           0.000000e+00\n",
       "CMPLNT_FR_DT         6.198889e-05\n",
       "CMPLNT_FR_TM         0.000000e+00\n",
       "CMPLNT_TO_DT         1.964180e-01\n",
       "CMPLNT_TO_TM         1.960499e-01\n",
       "RPT_DT               0.000000e+00\n",
       "KY_CD                0.000000e+00\n",
       "OFNS_DESC            2.746585e-03\n",
       "PD_CD                6.990439e-04\n",
       "PD_DESC              6.990439e-04\n",
       "CRM_ATPT_CPTD_CD     9.536752e-07\n",
       "LAW_CAT_CD           0.000000e+00\n",
       "JURIS_DESC           0.000000e+00\n",
       "BORO_NM              0.000000e+00\n",
       "ADDR_PCT_CD          9.536752e-07\n",
       "LOC_OF_OCCUR_DESC    2.076647e-01\n",
       "PREM_TYP_DESC        4.471783e-03\n",
       "PARKS_NM             9.927530e-01\n",
       "HADEVELOPT           9.506263e-01\n",
       "X_COORD_CD           3.091529e-02\n",
       "Y_COORD_CD           3.091529e-02\n",
       "Latitude             3.091529e-02\n",
       "Longitude            3.091529e-02\n",
       "Lat_Lon              3.091529e-02\n",
       "dtype: float64"
      ]
     },
     "execution_count": 16,
     "metadata": {},
     "output_type": "execute_result"
    }
   ],
   "source": [
    "ratio_num = df.isnull().sum() / num_rows\n",
    "ratio_num"
   ]
  },
  {
   "cell_type": "code",
   "execution_count": 17,
   "metadata": {},
   "outputs": [
    {
     "data": {
      "text/plain": [
       "CensusTract         0\n",
       "County              0\n",
       "Borough             0\n",
       "TotalPop            0\n",
       "Men                 0\n",
       "Women               0\n",
       "Hispanic           39\n",
       "White              39\n",
       "Black              39\n",
       "Native             39\n",
       "Asian              39\n",
       "Citizen             0\n",
       "Income             66\n",
       "IncomeErr          66\n",
       "IncomePerCap       46\n",
       "IncomePerCapErr    46\n",
       "Poverty            42\n",
       "ChildPoverty       60\n",
       "Professional       43\n",
       "Service            43\n",
       "Office             43\n",
       "Construction       43\n",
       "Production         43\n",
       "Drive              43\n",
       "Carpool            43\n",
       "Transit            43\n",
       "Walk               43\n",
       "OtherTransp        43\n",
       "WorkAtHome         43\n",
       "MeanCommute        61\n",
       "Employed            0\n",
       "PrivateWork        43\n",
       "PublicWork         43\n",
       "SelfEmployed       43\n",
       "FamilyWork         43\n",
       "Unemployment       42\n",
       "dtype: int64"
      ]
     },
     "execution_count": 17,
     "metadata": {},
     "output_type": "execute_result"
    }
   ],
   "source": [
    "census_df.isnull().sum()"
   ]
  },
  {
   "cell_type": "code",
   "execution_count": 18,
   "metadata": {},
   "outputs": [],
   "source": [
    "index2drop = census_df[census_df[\"IncomePerCap\"].isnull()].index\n",
    "census_df.drop(index2drop,inplace = True)"
   ]
  },
  {
   "cell_type": "code",
   "execution_count": 19,
   "metadata": {},
   "outputs": [],
   "source": [
    "index2drop = census_df[census_df[\"Income\"].isnull()].index\n",
    "census_df.drop(index2drop,inplace = True)"
   ]
  },
  {
   "cell_type": "markdown",
   "metadata": {},
   "source": [
    "None of the columns are completely empty, so there is no need to remove any columns from data."
   ]
  },
  {
   "cell_type": "markdown",
   "metadata": {},
   "source": [
    "Parks_nm an hadevelopt columns numbers are nearly empty and their ratios are very close to 1.\n",
    "For example;  \n",
    "PARKS_NM  9.927530e-01\n",
    "HADEVELOPT           9.506263e-01\n"
   ]
  },
  {
   "cell_type": "code",
   "execution_count": 20,
   "metadata": {},
   "outputs": [],
   "source": [
    "#Drop unnecessary columns\n",
    "df.drop([\"PARKS_NM\",\"HADEVELOPT\", \"CMPLNT_NUM\", \"KY_CD\", \"PD_CD\", \"CRM_ATPT_CPTD_CD\", \"LAW_CAT_CD\", \"JURIS_DESC\",\n",
    "        \"ADDR_PCT_CD\", \"LOC_OF_OCCUR_DESC\", \"PREM_TYP_DESC\", \"X_COORD_CD\", \"Y_COORD_CD\", \"Lat_Lon\"],axis = 1 , inplace = True)"
   ]
  },
  {
   "cell_type": "code",
   "execution_count": 21,
   "metadata": {
    "scrolled": true
   },
   "outputs": [
    {
     "data": {
      "text/html": [
       "<div>\n",
       "<style scoped>\n",
       "    .dataframe tbody tr th:only-of-type {\n",
       "        vertical-align: middle;\n",
       "    }\n",
       "\n",
       "    .dataframe tbody tr th {\n",
       "        vertical-align: top;\n",
       "    }\n",
       "\n",
       "    .dataframe thead th {\n",
       "        text-align: right;\n",
       "    }\n",
       "</style>\n",
       "<table border=\"1\" class=\"dataframe\">\n",
       "  <thead>\n",
       "    <tr style=\"text-align: right;\">\n",
       "      <th></th>\n",
       "      <th>CMPLNT_FR_DT</th>\n",
       "      <th>CMPLNT_FR_TM</th>\n",
       "      <th>CMPLNT_TO_DT</th>\n",
       "      <th>CMPLNT_TO_TM</th>\n",
       "      <th>RPT_DT</th>\n",
       "      <th>OFNS_DESC</th>\n",
       "      <th>PD_DESC</th>\n",
       "      <th>BORO_NM</th>\n",
       "      <th>Latitude</th>\n",
       "      <th>Longitude</th>\n",
       "    </tr>\n",
       "  </thead>\n",
       "  <tbody>\n",
       "    <tr>\n",
       "      <th>0</th>\n",
       "      <td>12/31/2015</td>\n",
       "      <td>23:45:00</td>\n",
       "      <td>NaN</td>\n",
       "      <td>NaN</td>\n",
       "      <td>12/31/2015</td>\n",
       "      <td>FORGERY</td>\n",
       "      <td>FORGERY,ETC.,UNCLASSIFIED-FELO</td>\n",
       "      <td>BRONX</td>\n",
       "      <td>40.828848</td>\n",
       "      <td>-73.916661</td>\n",
       "    </tr>\n",
       "    <tr>\n",
       "      <th>1</th>\n",
       "      <td>12/31/2015</td>\n",
       "      <td>23:36:00</td>\n",
       "      <td>NaN</td>\n",
       "      <td>NaN</td>\n",
       "      <td>12/31/2015</td>\n",
       "      <td>MURDER &amp; NON-NEGL. MANSLAUGHTER</td>\n",
       "      <td>NaN</td>\n",
       "      <td>QUEENS</td>\n",
       "      <td>40.697338</td>\n",
       "      <td>-73.784557</td>\n",
       "    </tr>\n",
       "    <tr>\n",
       "      <th>2</th>\n",
       "      <td>12/31/2015</td>\n",
       "      <td>23:30:00</td>\n",
       "      <td>NaN</td>\n",
       "      <td>NaN</td>\n",
       "      <td>12/31/2015</td>\n",
       "      <td>DANGEROUS DRUGS</td>\n",
       "      <td>CONTROLLED SUBSTANCE,INTENT TO</td>\n",
       "      <td>MANHATTAN</td>\n",
       "      <td>40.802607</td>\n",
       "      <td>-73.945052</td>\n",
       "    </tr>\n",
       "    <tr>\n",
       "      <th>3</th>\n",
       "      <td>12/31/2015</td>\n",
       "      <td>23:30:00</td>\n",
       "      <td>NaN</td>\n",
       "      <td>NaN</td>\n",
       "      <td>12/31/2015</td>\n",
       "      <td>ASSAULT 3 &amp; RELATED OFFENSES</td>\n",
       "      <td>ASSAULT 3</td>\n",
       "      <td>QUEENS</td>\n",
       "      <td>40.654549</td>\n",
       "      <td>-73.726339</td>\n",
       "    </tr>\n",
       "    <tr>\n",
       "      <th>4</th>\n",
       "      <td>12/31/2015</td>\n",
       "      <td>23:25:00</td>\n",
       "      <td>12/31/2015</td>\n",
       "      <td>23:30:00</td>\n",
       "      <td>12/31/2015</td>\n",
       "      <td>ASSAULT 3 &amp; RELATED OFFENSES</td>\n",
       "      <td>ASSAULT 3</td>\n",
       "      <td>MANHATTAN</td>\n",
       "      <td>40.738002</td>\n",
       "      <td>-73.987891</td>\n",
       "    </tr>\n",
       "  </tbody>\n",
       "</table>\n",
       "</div>"
      ],
      "text/plain": [
       "  CMPLNT_FR_DT CMPLNT_FR_TM CMPLNT_TO_DT CMPLNT_TO_TM      RPT_DT  \\\n",
       "0   12/31/2015     23:45:00          NaN          NaN  12/31/2015   \n",
       "1   12/31/2015     23:36:00          NaN          NaN  12/31/2015   \n",
       "2   12/31/2015     23:30:00          NaN          NaN  12/31/2015   \n",
       "3   12/31/2015     23:30:00          NaN          NaN  12/31/2015   \n",
       "4   12/31/2015     23:25:00   12/31/2015     23:30:00  12/31/2015   \n",
       "\n",
       "                         OFNS_DESC                         PD_DESC    BORO_NM  \\\n",
       "0                          FORGERY  FORGERY,ETC.,UNCLASSIFIED-FELO      BRONX   \n",
       "1  MURDER & NON-NEGL. MANSLAUGHTER                             NaN     QUEENS   \n",
       "2                  DANGEROUS DRUGS  CONTROLLED SUBSTANCE,INTENT TO  MANHATTAN   \n",
       "3     ASSAULT 3 & RELATED OFFENSES                       ASSAULT 3     QUEENS   \n",
       "4     ASSAULT 3 & RELATED OFFENSES                       ASSAULT 3  MANHATTAN   \n",
       "\n",
       "    Latitude  Longitude  \n",
       "0  40.828848 -73.916661  \n",
       "1  40.697338 -73.784557  \n",
       "2  40.802607 -73.945052  \n",
       "3  40.654549 -73.726339  \n",
       "4  40.738002 -73.987891  "
      ]
     },
     "execution_count": 21,
     "metadata": {},
     "output_type": "execute_result"
    }
   ],
   "source": [
    "df.head()"
   ]
  },
  {
   "cell_type": "markdown",
   "metadata": {},
   "source": [
    "We saved the initial table in df2, and in df we eliminated all NaN values from Latitude and Longtitude in order to visualize our data."
   ]
  },
  {
   "cell_type": "code",
   "execution_count": 22,
   "metadata": {},
   "outputs": [],
   "source": [
    "index2drop = df[df[\"Latitude\"].isnull()].index\n",
    "df.drop(index2drop,inplace = True)"
   ]
  },
  {
   "cell_type": "code",
   "execution_count": 23,
   "metadata": {},
   "outputs": [],
   "source": [
    "index2drop = df[df[\"Longitude\"].isnull()].index\n",
    "df.drop(index2drop,inplace = True)"
   ]
  },
  {
   "cell_type": "markdown",
   "metadata": {},
   "source": [
    "#     Data Exploration"
   ]
  },
  {
   "cell_type": "markdown",
   "metadata": {},
   "source": [
    "Distribution of Income per Cap"
   ]
  },
  {
   "cell_type": "code",
   "execution_count": 24,
   "metadata": {},
   "outputs": [
    {
     "data": {
      "text/plain": [
       "<matplotlib.axes._subplots.AxesSubplot at 0x200cffdb2b0>"
      ]
     },
     "execution_count": 24,
     "metadata": {},
     "output_type": "execute_result"
    },
    {
     "data": {
      "image/png": "[encoded data removed]",
      "text/plain": [
       "<Figure size 432x288 with 1 Axes>"
      ]
     },
     "metadata": {
      "needs_background": "light"
     },
     "output_type": "display_data"
    }
   ],
   "source": [
    "sns.distplot(census_df[\"IncomePerCap\"].astype(int), norm_hist=True)"
   ]
  },
  {
   "cell_type": "markdown",
   "metadata": {},
   "source": [
    "Distribution of Income"
   ]
  },
  {
   "cell_type": "code",
   "execution_count": 25,
   "metadata": {},
   "outputs": [
    {
     "data": {
      "text/plain": [
       "<matplotlib.axes._subplots.AxesSubplot at 0x200800918d0>"
      ]
     },
     "execution_count": 25,
     "metadata": {},
     "output_type": "execute_result"
    },
    {
     "data": {
      "image/png": "[encoded data removed]",
      "text/plain": [
       "<Figure size 432x288 with 1 Axes>"
      ]
     },
     "metadata": {
      "needs_background": "light"
     },
     "output_type": "display_data"
    }
   ],
   "source": [
    "sns.distplot(census_df[\"Income\"].astype(int), norm_hist=True)"
   ]
  },
  {
   "cell_type": "code",
   "execution_count": 26,
   "metadata": {},
   "outputs": [
    {
     "data": {
      "image/png": "[encoded data removed]",
      "text/plain": [
       "<Figure size 540x540 with 12 Axes>"
      ]
     },
     "metadata": {
      "needs_background": "light"
     },
     "output_type": "display_data"
    }
   ],
   "source": [
    "cols2plot = [\"Income\", \"Poverty\", \"Professional\"]\n",
    "sns.pairplot(data=census_df, vars=cols2plot, palette = \"rainbow\")\n",
    "\n",
    "plt.show()"
   ]
  },
  {
   "cell_type": "markdown",
   "metadata": {},
   "source": [
    "Crime frequencies by districts in NYC. It can be concluded that Brooklyn has the highest crime rates."
   ]
  },
  {
   "cell_type": "code",
   "execution_count": 27,
   "metadata": {},
   "outputs": [
    {
     "data": {
      "text/plain": [
       "BROOKLYN         308786\n",
       "MANHATTAN        237833\n",
       "BRONX            220109\n",
       "QUEENS           202029\n",
       "STATEN ISLAND     47401\n",
       "Name: BORO_NM, dtype: int64"
      ]
     },
     "execution_count": 27,
     "metadata": {},
     "output_type": "execute_result"
    }
   ],
   "source": [
    "df['BORO_NM'].value_counts()"
   ]
  },
  {
   "cell_type": "markdown",
   "metadata": {},
   "source": [
    "This is the 20 most commonc crimes in NYC "
   ]
  },
  {
   "cell_type": "code",
   "execution_count": 28,
   "metadata": {},
   "outputs": [
    {
     "data": {
      "image/png": "[encoded data removed]",
      "text/plain": [
       "<Figure size 432x288 with 1 Axes>"
      ]
     },
     "metadata": {
      "needs_background": "light"
     },
     "output_type": "display_data"
    }
   ],
   "source": [
    "#20 most common crimes in NYC, by year\n",
    "\n",
    "df['OFNS_DESC'].value_counts()[:20].plot.bar()\n",
    "plt.ylabel('Count')\n",
    "plt.title('10 most common crimes in NYC')\n",
    "plt.show()"
   ]
  },
  {
   "cell_type": "markdown",
   "metadata": {},
   "source": [
    " The most common crime is Petit Larceny and the second most common is harrasment"
   ]
  },
  {
   "cell_type": "code",
   "execution_count": 29,
   "metadata": {},
   "outputs": [
    {
     "data": {
      "image/png": "[encoded data removed]",
      "text/plain": [
       "<Figure size 432x288 with 1 Axes>"
      ]
     },
     "metadata": {
      "needs_background": "light"
     },
     "output_type": "display_data"
    }
   ],
   "source": [
    "\"\"\"Petit Larceny crimes by boro in 2014-2015 destributed by districts of NYC(unstandardized)\"\"\"\n",
    "\n",
    "Boro_Crime = df.copy()\n",
    "Boro_Crime = Boro_Crime[Boro_Crime['OFNS_DESC']=='PETIT LARCENY']\n",
    "\n",
    "Boro_Crime['BORO_NM'].value_counts().plot.bar()\n",
    "\n",
    "plt.ylabel('Count')\n",
    "plt.title('Petit Larceny crimes by Districts (unstandardized)')\n",
    "plt.show()\n",
    "\n",
    "del(Boro_Crime)"
   ]
  },
  {
   "cell_type": "markdown",
   "metadata": {},
   "source": [
    "The dangereous drug crimes distributed by districts of NYC"
   ]
  },
  {
   "cell_type": "code",
   "execution_count": 30,
   "metadata": {},
   "outputs": [
    {
     "data": {
      "image/png": "[encoded data removed]",
      "text/plain": [
       "<Figure size 432x288 with 1 Axes>"
      ]
     },
     "metadata": {
      "needs_background": "light"
     },
     "output_type": "display_data"
    }
   ],
   "source": [
    "#Dangereous Drug crimes by boro in 2014-2015 destributed by districts of NYC(unstandardized)\n",
    "\n",
    "Boro_Crime = df.copy()\n",
    "Boro_Crime = Boro_Crime[Boro_Crime['OFNS_DESC']=='DANGEROUS DRUGS']\n",
    "\n",
    "Boro_Crime['BORO_NM'].value_counts().plot.bar()\n",
    "\n",
    "plt.ylabel('Count')\n",
    "plt.title('Grand Larceny crimes by Districts (unstandardized)')\n",
    "plt.show()\n",
    "\n",
    "del(Boro_Crime)"
   ]
  },
  {
   "cell_type": "code",
   "execution_count": 31,
   "metadata": {},
   "outputs": [
    {
     "data": {
      "text/html": [
       "<div>\n",
       "<style scoped>\n",
       "    .dataframe tbody tr th:only-of-type {\n",
       "        vertical-align: middle;\n",
       "    }\n",
       "\n",
       "    .dataframe tbody tr th {\n",
       "        vertical-align: top;\n",
       "    }\n",
       "\n",
       "    .dataframe thead th {\n",
       "        text-align: right;\n",
       "    }\n",
       "</style>\n",
       "<table border=\"1\" class=\"dataframe\">\n",
       "  <thead>\n",
       "    <tr style=\"text-align: right;\">\n",
       "      <th></th>\n",
       "      <th>CMPLNT_FR_DT</th>\n",
       "      <th>CMPLNT_FR_TM</th>\n",
       "      <th>CMPLNT_TO_DT</th>\n",
       "      <th>CMPLNT_TO_TM</th>\n",
       "      <th>RPT_DT</th>\n",
       "      <th>OFNS_DESC</th>\n",
       "      <th>PD_DESC</th>\n",
       "      <th>BORO_NM</th>\n",
       "      <th>Latitude</th>\n",
       "      <th>Longitude</th>\n",
       "    </tr>\n",
       "  </thead>\n",
       "  <tbody>\n",
       "    <tr>\n",
       "      <th>2</th>\n",
       "      <td>12/31/2015</td>\n",
       "      <td>23:30:00</td>\n",
       "      <td>NaN</td>\n",
       "      <td>NaN</td>\n",
       "      <td>12/31/2015</td>\n",
       "      <td>DANGEROUS DRUGS</td>\n",
       "      <td>CONTROLLED SUBSTANCE,INTENT TO</td>\n",
       "      <td>MANHATTAN</td>\n",
       "      <td>40.802607</td>\n",
       "      <td>-73.945052</td>\n",
       "    </tr>\n",
       "    <tr>\n",
       "      <th>6</th>\n",
       "      <td>12/31/2015</td>\n",
       "      <td>23:15:00</td>\n",
       "      <td>NaN</td>\n",
       "      <td>NaN</td>\n",
       "      <td>12/31/2015</td>\n",
       "      <td>DANGEROUS DRUGS</td>\n",
       "      <td>CONTROLLED SUBSTANCE, POSSESSI</td>\n",
       "      <td>MANHATTAN</td>\n",
       "      <td>40.720200</td>\n",
       "      <td>-73.988735</td>\n",
       "    </tr>\n",
       "    <tr>\n",
       "      <th>20</th>\n",
       "      <td>12/31/2015</td>\n",
       "      <td>22:53:00</td>\n",
       "      <td>12/31/2015</td>\n",
       "      <td>22:55:00</td>\n",
       "      <td>12/31/2015</td>\n",
       "      <td>DANGEROUS DRUGS</td>\n",
       "      <td>CONTROLLED SUBSTANCE, POSSESSI</td>\n",
       "      <td>BROOKLYN</td>\n",
       "      <td>40.655642</td>\n",
       "      <td>-73.959863</td>\n",
       "    </tr>\n",
       "    <tr>\n",
       "      <th>22</th>\n",
       "      <td>12/31/2015</td>\n",
       "      <td>22:50:00</td>\n",
       "      <td>12/31/2015</td>\n",
       "      <td>22:57:00</td>\n",
       "      <td>12/31/2015</td>\n",
       "      <td>DANGEROUS DRUGS</td>\n",
       "      <td>CONTROLLED SUBSTANCE, POSSESSI</td>\n",
       "      <td>QUEENS</td>\n",
       "      <td>40.749307</td>\n",
       "      <td>-73.897578</td>\n",
       "    </tr>\n",
       "    <tr>\n",
       "      <th>28</th>\n",
       "      <td>12/31/2015</td>\n",
       "      <td>22:40:00</td>\n",
       "      <td>12/31/2015</td>\n",
       "      <td>22:50:00</td>\n",
       "      <td>12/31/2015</td>\n",
       "      <td>DANGEROUS DRUGS</td>\n",
       "      <td>MARIJUANA, POSSESSION 4 &amp; 5</td>\n",
       "      <td>BROOKLYN</td>\n",
       "      <td>40.696494</td>\n",
       "      <td>-73.949431</td>\n",
       "    </tr>\n",
       "  </tbody>\n",
       "</table>\n",
       "</div>"
      ],
      "text/plain": [
       "   CMPLNT_FR_DT CMPLNT_FR_TM CMPLNT_TO_DT CMPLNT_TO_TM      RPT_DT  \\\n",
       "2    12/31/2015     23:30:00          NaN          NaN  12/31/2015   \n",
       "6    12/31/2015     23:15:00          NaN          NaN  12/31/2015   \n",
       "20   12/31/2015     22:53:00   12/31/2015     22:55:00  12/31/2015   \n",
       "22   12/31/2015     22:50:00   12/31/2015     22:57:00  12/31/2015   \n",
       "28   12/31/2015     22:40:00   12/31/2015     22:50:00  12/31/2015   \n",
       "\n",
       "          OFNS_DESC                         PD_DESC    BORO_NM   Latitude  \\\n",
       "2   DANGEROUS DRUGS  CONTROLLED SUBSTANCE,INTENT TO  MANHATTAN  40.802607   \n",
       "6   DANGEROUS DRUGS  CONTROLLED SUBSTANCE, POSSESSI  MANHATTAN  40.720200   \n",
       "20  DANGEROUS DRUGS  CONTROLLED SUBSTANCE, POSSESSI   BROOKLYN  40.655642   \n",
       "22  DANGEROUS DRUGS  CONTROLLED SUBSTANCE, POSSESSI     QUEENS  40.749307   \n",
       "28  DANGEROUS DRUGS     MARIJUANA, POSSESSION 4 & 5   BROOKLYN  40.696494   \n",
       "\n",
       "    Longitude  \n",
       "2  -73.945052  \n",
       "6  -73.988735  \n",
       "20 -73.959863  \n",
       "22 -73.897578  \n",
       "28 -73.949431  "
      ]
     },
     "execution_count": 31,
     "metadata": {},
     "output_type": "execute_result"
    }
   ],
   "source": [
    "drug_extracted = df.loc[df[\"OFNS_DESC\"] == \"DANGEROUS DRUGS\"]\n",
    "drug_extracted.head()"
   ]
  },
  {
   "cell_type": "code",
   "execution_count": 32,
   "metadata": {
    "scrolled": true
   },
   "outputs": [
    {
     "data": {
      "image/png": "[encoded data removed]",
      "text/plain": [
       "<Figure size 432x288 with 1 Axes>"
      ]
     },
     "metadata": {
      "needs_background": "light"
     },
     "output_type": "display_data"
    }
   ],
   "source": [
    "#15 most common crimes related with drugs in NYC, by year\n",
    "\n",
    "drug_extracted['PD_DESC'].value_counts()[:20].plot.bar()\n",
    "plt.ylabel('Count')\n",
    "plt.title('15 most common crimes in NYC')\n",
    "plt.show()"
   ]
  },
  {
   "cell_type": "code",
   "execution_count": 33,
   "metadata": {},
   "outputs": [
    {
     "data": {
      "text/plain": [
       "MARIJUANA, POSSESSION 4 & 5       25983\n",
       "CONTROLLED SUBSTANCE, POSSESSI    19104\n",
       "CONTROLLED SUBSTANCE,INTENT TO     3640\n",
       "CONTROLLED SUBSTANCE,POSSESS.      2311\n",
       "MARIJUANA, SALE 4 & 5              1415\n",
       "CONTROLLED SUBSTANCE, SALE 5        959\n",
       "CONTROLLED SUBSTANCE,SALE 3         561\n",
       "CONTROLLED SUBSTANCE, INTENT T      552\n",
       "MARIJUANA, POSSESSION 1, 2 & 3      398\n",
       "DRUG PARAPHERNALIA,   POSSESSE      381\n",
       "CONTROLLED SUBSTANCE,SALE 1         286\n",
       "CONTROLLED SUBSTANCE,SALE 2         112\n",
       "POSSESSION HYPODERMIC INSTRUME      112\n",
       "MARIJUANA, SALE 1, 2 & 3            110\n",
       "CONTROLLED SUBSTANCE, SALE 4         49\n",
       "SALE SCHOOL GROUNDS 4                47\n",
       "CONTROLLED SUBSTANCE,POSSESS.-       15\n",
       "SALES OF PRESCRIPTION                 5\n",
       "SALE SCHOOL GROUNDS                   2\n",
       "Name: PD_DESC, dtype: int64"
      ]
     },
     "execution_count": 33,
     "metadata": {},
     "output_type": "execute_result"
    }
   ],
   "source": [
    "drug_extracted['PD_DESC'].value_counts()"
   ]
  },
  {
   "cell_type": "code",
   "execution_count": 34,
   "metadata": {},
   "outputs": [
    {
     "data": {
      "text/plain": [
       "BRONX            21028\n",
       "BROOKLYN         15930\n",
       "MANHATTAN        13377\n",
       "QUEENS            4082\n",
       "STATEN ISLAND     1625\n",
       "Name: BORO_NM, dtype: int64"
      ]
     },
     "execution_count": 34,
     "metadata": {},
     "output_type": "execute_result"
    }
   ],
   "source": [
    "drug_extracted['BORO_NM'].value_counts().sort_index()"
   ]
  },
  {
   "cell_type": "markdown",
   "metadata": {},
   "source": [
    "We eliminated the rows which are related with dangereous drugs because we're going to create graphs for comparison"
   ]
  },
  {
   "cell_type": "code",
   "execution_count": 35,
   "metadata": {},
   "outputs": [
    {
     "data": {
      "text/html": [
       "<div>\n",
       "<style scoped>\n",
       "    .dataframe tbody tr th:only-of-type {\n",
       "        vertical-align: middle;\n",
       "    }\n",
       "\n",
       "    .dataframe tbody tr th {\n",
       "        vertical-align: top;\n",
       "    }\n",
       "\n",
       "    .dataframe thead th {\n",
       "        text-align: right;\n",
       "    }\n",
       "</style>\n",
       "<table border=\"1\" class=\"dataframe\">\n",
       "  <thead>\n",
       "    <tr style=\"text-align: right;\">\n",
       "      <th></th>\n",
       "      <th>CMPLNT_FR_DT</th>\n",
       "      <th>CMPLNT_FR_TM</th>\n",
       "      <th>CMPLNT_TO_DT</th>\n",
       "      <th>CMPLNT_TO_TM</th>\n",
       "      <th>RPT_DT</th>\n",
       "      <th>OFNS_DESC</th>\n",
       "      <th>PD_DESC</th>\n",
       "      <th>BORO_NM</th>\n",
       "      <th>Latitude</th>\n",
       "      <th>Longitude</th>\n",
       "    </tr>\n",
       "  </thead>\n",
       "  <tbody>\n",
       "    <tr>\n",
       "      <th>0</th>\n",
       "      <td>12/31/2015</td>\n",
       "      <td>23:45:00</td>\n",
       "      <td>NaN</td>\n",
       "      <td>NaN</td>\n",
       "      <td>12/31/2015</td>\n",
       "      <td>FORGERY</td>\n",
       "      <td>FORGERY,ETC.,UNCLASSIFIED-FELO</td>\n",
       "      <td>BRONX</td>\n",
       "      <td>40.828848</td>\n",
       "      <td>-73.916661</td>\n",
       "    </tr>\n",
       "    <tr>\n",
       "      <th>1</th>\n",
       "      <td>12/31/2015</td>\n",
       "      <td>23:36:00</td>\n",
       "      <td>NaN</td>\n",
       "      <td>NaN</td>\n",
       "      <td>12/31/2015</td>\n",
       "      <td>MURDER &amp; NON-NEGL. MANSLAUGHTER</td>\n",
       "      <td>NaN</td>\n",
       "      <td>QUEENS</td>\n",
       "      <td>40.697338</td>\n",
       "      <td>-73.784557</td>\n",
       "    </tr>\n",
       "    <tr>\n",
       "      <th>3</th>\n",
       "      <td>12/31/2015</td>\n",
       "      <td>23:30:00</td>\n",
       "      <td>NaN</td>\n",
       "      <td>NaN</td>\n",
       "      <td>12/31/2015</td>\n",
       "      <td>ASSAULT 3 &amp; RELATED OFFENSES</td>\n",
       "      <td>ASSAULT 3</td>\n",
       "      <td>QUEENS</td>\n",
       "      <td>40.654549</td>\n",
       "      <td>-73.726339</td>\n",
       "    </tr>\n",
       "    <tr>\n",
       "      <th>4</th>\n",
       "      <td>12/31/2015</td>\n",
       "      <td>23:25:00</td>\n",
       "      <td>12/31/2015</td>\n",
       "      <td>23:30:00</td>\n",
       "      <td>12/31/2015</td>\n",
       "      <td>ASSAULT 3 &amp; RELATED OFFENSES</td>\n",
       "      <td>ASSAULT 3</td>\n",
       "      <td>MANHATTAN</td>\n",
       "      <td>40.738002</td>\n",
       "      <td>-73.987891</td>\n",
       "    </tr>\n",
       "    <tr>\n",
       "      <th>5</th>\n",
       "      <td>12/31/2015</td>\n",
       "      <td>23:18:00</td>\n",
       "      <td>12/31/2015</td>\n",
       "      <td>23:25:00</td>\n",
       "      <td>12/31/2015</td>\n",
       "      <td>FELONY ASSAULT</td>\n",
       "      <td>ASSAULT 2,1,UNCLASSIFIED</td>\n",
       "      <td>BROOKLYN</td>\n",
       "      <td>40.665023</td>\n",
       "      <td>-73.957111</td>\n",
       "    </tr>\n",
       "  </tbody>\n",
       "</table>\n",
       "</div>"
      ],
      "text/plain": [
       "  CMPLNT_FR_DT CMPLNT_FR_TM CMPLNT_TO_DT CMPLNT_TO_TM      RPT_DT  \\\n",
       "0   12/31/2015     23:45:00          NaN          NaN  12/31/2015   \n",
       "1   12/31/2015     23:36:00          NaN          NaN  12/31/2015   \n",
       "3   12/31/2015     23:30:00          NaN          NaN  12/31/2015   \n",
       "4   12/31/2015     23:25:00   12/31/2015     23:30:00  12/31/2015   \n",
       "5   12/31/2015     23:18:00   12/31/2015     23:25:00  12/31/2015   \n",
       "\n",
       "                         OFNS_DESC                         PD_DESC    BORO_NM  \\\n",
       "0                          FORGERY  FORGERY,ETC.,UNCLASSIFIED-FELO      BRONX   \n",
       "1  MURDER & NON-NEGL. MANSLAUGHTER                             NaN     QUEENS   \n",
       "3     ASSAULT 3 & RELATED OFFENSES                       ASSAULT 3     QUEENS   \n",
       "4     ASSAULT 3 & RELATED OFFENSES                       ASSAULT 3  MANHATTAN   \n",
       "5                   FELONY ASSAULT        ASSAULT 2,1,UNCLASSIFIED   BROOKLYN   \n",
       "\n",
       "    Latitude  Longitude  \n",
       "0  40.828848 -73.916661  \n",
       "1  40.697338 -73.784557  \n",
       "3  40.654549 -73.726339  \n",
       "4  40.738002 -73.987891  \n",
       "5  40.665023 -73.957111  "
      ]
     },
     "execution_count": 35,
     "metadata": {},
     "output_type": "execute_result"
    }
   ],
   "source": [
    "drug_extractedwithout = df.loc[df[\"OFNS_DESC\"] != \"DANGEROUS DRUGS\"]\n",
    "drug_extractedwithout.head()"
   ]
  },
  {
   "cell_type": "code",
   "execution_count": 36,
   "metadata": {},
   "outputs": [
    {
     "data": {
      "text/plain": [
       "BRONX            199081\n",
       "BROOKLYN         292856\n",
       "MANHATTAN        224456\n",
       "QUEENS           197947\n",
       "STATEN ISLAND     45776\n",
       "Name: BORO_NM, dtype: int64"
      ]
     },
     "execution_count": 36,
     "metadata": {},
     "output_type": "execute_result"
    }
   ],
   "source": [
    "drug_extractedwithout['BORO_NM'].value_counts().sort_index()"
   ]
  },
  {
   "cell_type": "code",
   "execution_count": 37,
   "metadata": {},
   "outputs": [
    {
     "data": {
      "image/png": "[encoded data removed]",
      "text/plain": [
       "<Figure size 432x288 with 1 Axes>"
      ]
     },
     "metadata": {
      "needs_background": "light"
     },
     "output_type": "display_data"
    }
   ],
   "source": [
    "index = np.arange(5)\n",
    "bar_width = 0.35\n",
    "\n",
    "fig, ax = plt.subplots()\n",
    "a1 = ax.bar(index, drug_extractedwithout[\"BORO_NM\"].value_counts().sort_index(), bar_width,\n",
    "                label=\"All crime locations without dangereous drugs\")\n",
    "\n",
    "a2 = ax.bar(index+bar_width, drug_extracted[\"BORO_NM\"].value_counts().sort_index(),\n",
    "                 bar_width, label=\"All crime locations with dangereous drugs\")\n",
    "\n",
    "ax.set_title('Crime incidence by season, type')\n",
    "ax.set_xticks(index + bar_width / 2)\n",
    "ax.set_xticklabels([\"BRONX\", \"BROOKLYN\", \"MANHATTAN\", \"QUEENS\", \"STATEN ISLAND\"])\n",
    "\n",
    "\n",
    "\n",
    "ax.legend()\n",
    "\n",
    "plt.show()"
   ]
  },
  {
   "cell_type": "markdown",
   "metadata": {},
   "source": []
  },
  {
   "cell_type": "markdown",
   "metadata": {},
   "source": [
    "Delete rows that contain NULL \"CMPLNT_FR_DT\" values. We will add a new column called \"day\", and for this we need to convert CMPLNT_FR_DT objects into time-date objects."
   ]
  },
  {
   "cell_type": "code",
   "execution_count": 38,
   "metadata": {},
   "outputs": [],
   "source": [
    "index2drop = df[df[\"CMPLNT_FR_DT\"].isnull()].index\n",
    "df.drop(index2drop,inplace = True)"
   ]
  },
  {
   "cell_type": "code",
   "execution_count": 39,
   "metadata": {
    "scrolled": false
   },
   "outputs": [],
   "source": [
    "import datetime\n",
    "df2 = df.copy()\n",
    "def eliminate_nonsense_dates(x):\n",
    "    if x[2] > '2050':\n",
    "        x = None\n",
    "    elif x[2] < '2010':\n",
    "        x = None\n",
    "    else:\n",
    "        aa= '/'.join(x)\n",
    "        return (aa)\n",
    "\n",
    "df2['CMPLNT_FR_DT'] = df2['CMPLNT_FR_DT'].str.split(\"/\") #create a list for each value\n",
    "df2['CMPLNT_FR_DT'] = df2['CMPLNT_FR_DT'].apply(lambda x: eliminate_nonsense_dates(x))\n",
    "\n",
    "df2['Date_OCCRD'] = df2['CMPLNT_FR_DT'] +' '+df2['CMPLNT_FR_TM'] #Combing date and time columns\n",
    "df2['Date_OCCRD'] = pd.to_datetime(df2['Date_OCCRD'])\n",
    "\n",
    "df2.head()\n",
    "del(df)"
   ]
  },
  {
   "cell_type": "code",
   "execution_count": 40,
   "metadata": {},
   "outputs": [],
   "source": [
    "df2[\"day\"] = df2[\"Date_OCCRD\"].dt.weekday\n",
    "index2drop = df2[df2[\"Date_OCCRD\"].isnull()].index\n",
    "df2.drop(index2drop,inplace = True)"
   ]
  },
  {
   "cell_type": "code",
   "execution_count": 41,
   "metadata": {},
   "outputs": [
    {
     "data": {
      "text/html": [
       "<div>\n",
       "<style scoped>\n",
       "    .dataframe tbody tr th:only-of-type {\n",
       "        vertical-align: middle;\n",
       "    }\n",
       "\n",
       "    .dataframe tbody tr th {\n",
       "        vertical-align: top;\n",
       "    }\n",
       "\n",
       "    .dataframe thead th {\n",
       "        text-align: right;\n",
       "    }\n",
       "</style>\n",
       "<table border=\"1\" class=\"dataframe\">\n",
       "  <thead>\n",
       "    <tr style=\"text-align: right;\">\n",
       "      <th></th>\n",
       "      <th>OFNS_DESC</th>\n",
       "      <th>PD_DESC</th>\n",
       "      <th>BORO_NM</th>\n",
       "      <th>Latitude</th>\n",
       "      <th>Longitude</th>\n",
       "      <th>Date_OCCRD</th>\n",
       "      <th>day</th>\n",
       "    </tr>\n",
       "  </thead>\n",
       "  <tbody>\n",
       "    <tr>\n",
       "      <th>0</th>\n",
       "      <td>FORGERY</td>\n",
       "      <td>FORGERY,ETC.,UNCLASSIFIED-FELO</td>\n",
       "      <td>BRONX</td>\n",
       "      <td>40.828848</td>\n",
       "      <td>-73.916661</td>\n",
       "      <td>2015-12-31 23:45:00</td>\n",
       "      <td>3</td>\n",
       "    </tr>\n",
       "    <tr>\n",
       "      <th>1</th>\n",
       "      <td>MURDER &amp; NON-NEGL. MANSLAUGHTER</td>\n",
       "      <td>NaN</td>\n",
       "      <td>QUEENS</td>\n",
       "      <td>40.697338</td>\n",
       "      <td>-73.784557</td>\n",
       "      <td>2015-12-31 23:36:00</td>\n",
       "      <td>3</td>\n",
       "    </tr>\n",
       "    <tr>\n",
       "      <th>2</th>\n",
       "      <td>DANGEROUS DRUGS</td>\n",
       "      <td>CONTROLLED SUBSTANCE,INTENT TO</td>\n",
       "      <td>MANHATTAN</td>\n",
       "      <td>40.802607</td>\n",
       "      <td>-73.945052</td>\n",
       "      <td>2015-12-31 23:30:00</td>\n",
       "      <td>3</td>\n",
       "    </tr>\n",
       "    <tr>\n",
       "      <th>3</th>\n",
       "      <td>ASSAULT 3 &amp; RELATED OFFENSES</td>\n",
       "      <td>ASSAULT 3</td>\n",
       "      <td>QUEENS</td>\n",
       "      <td>40.654549</td>\n",
       "      <td>-73.726339</td>\n",
       "      <td>2015-12-31 23:30:00</td>\n",
       "      <td>3</td>\n",
       "    </tr>\n",
       "    <tr>\n",
       "      <th>4</th>\n",
       "      <td>ASSAULT 3 &amp; RELATED OFFENSES</td>\n",
       "      <td>ASSAULT 3</td>\n",
       "      <td>MANHATTAN</td>\n",
       "      <td>40.738002</td>\n",
       "      <td>-73.987891</td>\n",
       "      <td>2015-12-31 23:25:00</td>\n",
       "      <td>3</td>\n",
       "    </tr>\n",
       "  </tbody>\n",
       "</table>\n",
       "</div>"
      ],
      "text/plain": [
       "                         OFNS_DESC                         PD_DESC    BORO_NM  \\\n",
       "0                          FORGERY  FORGERY,ETC.,UNCLASSIFIED-FELO      BRONX   \n",
       "1  MURDER & NON-NEGL. MANSLAUGHTER                             NaN     QUEENS   \n",
       "2                  DANGEROUS DRUGS  CONTROLLED SUBSTANCE,INTENT TO  MANHATTAN   \n",
       "3     ASSAULT 3 & RELATED OFFENSES                       ASSAULT 3     QUEENS   \n",
       "4     ASSAULT 3 & RELATED OFFENSES                       ASSAULT 3  MANHATTAN   \n",
       "\n",
       "    Latitude  Longitude          Date_OCCRD  day  \n",
       "0  40.828848 -73.916661 2015-12-31 23:45:00    3  \n",
       "1  40.697338 -73.784557 2015-12-31 23:36:00    3  \n",
       "2  40.802607 -73.945052 2015-12-31 23:30:00    3  \n",
       "3  40.654549 -73.726339 2015-12-31 23:30:00    3  \n",
       "4  40.738002 -73.987891 2015-12-31 23:25:00    3  "
      ]
     },
     "execution_count": 41,
     "metadata": {},
     "output_type": "execute_result"
    }
   ],
   "source": [
    "df2[\"day\"] = df2[\"day\"].astype(int)\n",
    "# we don't need these columns anymore, and we need space\n",
    "df2.drop([\"CMPLNT_FR_DT\", \"CMPLNT_FR_TM\", \"CMPLNT_TO_DT\", \"CMPLNT_TO_TM\", \"RPT_DT\"],axis = 1 , inplace = True)\n",
    "df2.head()"
   ]
  },
  {
   "cell_type": "markdown",
   "metadata": {},
   "source": [
    "### Extracting Some Insights"
   ]
  },
  {
   "cell_type": "markdown",
   "metadata": {},
   "source": [
    "#### How does time of day affect the crime rates?"
   ]
  },
  {
   "cell_type": "markdown",
   "metadata": {},
   "source": [
    "Below plot shows how the time is distributed."
   ]
  },
  {
   "cell_type": "code",
   "execution_count": 42,
   "metadata": {},
   "outputs": [
    {
     "data": {
      "image/png": "[encoded data removed]",
      "text/plain": [
       "<Figure size 432x288 with 1 Axes>"
      ]
     },
     "metadata": {
      "needs_background": "light"
     },
     "output_type": "display_data"
    }
   ],
   "source": [
    "sns.distplot(df2[\"Date_OCCRD\"].dt.hour, norm_hist=True)\n",
    "\n",
    "plt.xlabel(\"Hour of Day\")\n",
    "plt.title(\"Distribution of Crime Hours\")\n",
    "plt.show()"
   ]
  },
  {
   "cell_type": "markdown",
   "metadata": {},
   "source": [
    "## Hypothesis Testing"
   ]
  },
  {
   "cell_type": "markdown",
   "metadata": {},
   "source": [
    "#### How does time of day affect the drug crime rates?"
   ]
  },
  {
   "cell_type": "markdown",
   "metadata": {},
   "source": [
    "Our null hypothesis is that the day of week has no affect on whether or not a crime is a drug crime."
   ]
  },
  {
   "cell_type": "code",
   "execution_count": 43,
   "metadata": {},
   "outputs": [],
   "source": [
    "drug_extractedwithout = df2.loc[df2[\"OFNS_DESC\"] != \"DANGEROUS DRUGS\"]\n",
    "drug_extracted = df2.loc[df2[\"OFNS_DESC\"] == \"DANGEROUS DRUGS\"]"
   ]
  },
  {
   "cell_type": "code",
   "execution_count": 44,
   "metadata": {},
   "outputs": [
    {
     "data": {
      "image/png": "[encoded data removed]",
      "text/plain": [
       "<Figure size 1440x504 with 1 Axes>"
      ]
     },
     "metadata": {
      "needs_background": "light"
     },
     "output_type": "display_data"
    }
   ],
   "source": [
    "fig,ax = plt.subplots(1,1,figsize = (20,7))\n",
    "ax = sns.kdeplot(drug_extracted[\"day\"].rename(\"drug related\"), shade=True)\n",
    "sns.kdeplot(drug_extractedwithout[\"day\"].rename(\"not drug related\"), ax=ax, shade=True)\n",
    "plt.title(\"Relation between drug crime days and other crime days\")\n",
    "\n",
    "plt.xlim([-1, 7])\n",
    "plt.show()"
   ]
  },
  {
   "cell_type": "code",
   "execution_count": 45,
   "metadata": {},
   "outputs": [
    {
     "data": {
      "text/plain": [
       "1.9095462343838612e-06"
      ]
     },
     "execution_count": 45,
     "metadata": {},
     "output_type": "execute_result"
    }
   ],
   "source": [
    "drugsvalues = drug_extracted[\"day\"].values\n",
    "notdrugsvalues = drug_extractedwithout[\"day\"].values\n",
    "\n",
    "_, p_value = stats.ttest_ind(a=drugsvalues, b=notdrugsvalues, equal_var=False)\n",
    "p_value"
   ]
  },
  {
   "cell_type": "code",
   "execution_count": 46,
   "metadata": {},
   "outputs": [
    {
     "data": {
      "text/plain": [
       "3.050714680847267"
      ]
     },
     "execution_count": 46,
     "metadata": {},
     "output_type": "execute_result"
    }
   ],
   "source": [
    "drugsvalues.mean()"
   ]
  },
  {
   "cell_type": "code",
   "execution_count": 47,
   "metadata": {},
   "outputs": [
    {
     "data": {
      "text/plain": [
       "3.013730885893868"
      ]
     },
     "execution_count": 47,
     "metadata": {},
     "output_type": "execute_result"
    }
   ],
   "source": [
    "notdrugsvalues.mean()"
   ]
  },
  {
   "cell_type": "markdown",
   "metadata": {},
   "source": [
    "We can see that p-value is smaller than 0.05. Our value is 1.9e-06. Therefore we can conclude that the null hypothesis has failed. Also, the difference between means are not significant. Which means that we can not say the day of week has no affect on the crime being drug related or not."
   ]
  },
  {
   "cell_type": "markdown",
   "metadata": {},
   "source": [
    "#### How does day of month affect the drug crime rates?"
   ]
  },
  {
   "cell_type": "markdown",
   "metadata": {},
   "source": [
    "Our null hypothesis is that the day of month has no affect on whether or not a crime is a drug crime."
   ]
  },
  {
   "cell_type": "code",
   "execution_count": 48,
   "metadata": {},
   "outputs": [
    {
     "data": {
      "image/png": "[encoded data removed]",
      "text/plain": [
       "<Figure size 1440x504 with 1 Axes>"
      ]
     },
     "metadata": {
      "needs_background": "light"
     },
     "output_type": "display_data"
    }
   ],
   "source": [
    "fig,ax = plt.subplots(1,1,figsize = (20,7))\n",
    "ax = sns.kdeplot(drug_extracted[\"Date_OCCRD\"].dt.day.rename(\"drug related\"), shade=True)\n",
    "sns.kdeplot(drug_extractedwithout[\"Date_OCCRD\"].dt.day.rename(\"not drug related\"), ax=ax, shade=True)\n",
    "plt.title(\"Relation between drug crime days and other crime days\")\n",
    "\n",
    "plt.xlim([-1, 35])\n",
    "plt.show()"
   ]
  },
  {
   "cell_type": "code",
   "execution_count": 49,
   "metadata": {},
   "outputs": [
    {
     "data": {
      "text/plain": [
       "2.641521522055945e-34"
      ]
     },
     "execution_count": 49,
     "metadata": {},
     "output_type": "execute_result"
    }
   ],
   "source": [
    "drugsvalues = drug_extracted[\"Date_OCCRD\"].dt.day.values\n",
    "notdrugsvalues = drug_extractedwithout[\"Date_OCCRD\"].dt.day.values\n",
    "\n",
    "_, p_value = stats.ttest_ind(a=drugsvalues, b=notdrugsvalues, equal_var=False)\n",
    "p_value"
   ]
  },
  {
   "cell_type": "code",
   "execution_count": 50,
   "metadata": {},
   "outputs": [
    {
     "data": {
      "text/plain": [
       "15.11502703474366"
      ]
     },
     "execution_count": 50,
     "metadata": {},
     "output_type": "execute_result"
    }
   ],
   "source": [
    "drugsvalues.mean()"
   ]
  },
  {
   "cell_type": "code",
   "execution_count": 51,
   "metadata": {},
   "outputs": [
    {
     "data": {
      "text/plain": [
       "15.57052336429115"
      ]
     },
     "execution_count": 51,
     "metadata": {},
     "output_type": "execute_result"
    }
   ],
   "source": [
    "notdrugsvalues.mean()"
   ]
  },
  {
   "cell_type": "markdown",
   "metadata": {},
   "source": [
    "We can see that p-value is much smaller than 0.05. Our value is 2.64e-34. Therefore we can conclude that the null hypothesis has failed. Also, the difference between means are not significant. Which means that we can say the day of month has an affect on the crime being drug related or not."
   ]
  },
  {
   "cell_type": "markdown",
   "metadata": {},
   "source": [
    "#### How does month of year affect the drug crime rates?"
   ]
  },
  {
   "cell_type": "markdown",
   "metadata": {},
   "source": [
    "Our null hypothesis is that the hour of day has no affect on whether the crime being drug related or not."
   ]
  },
  {
   "cell_type": "code",
   "execution_count": 52,
   "metadata": {},
   "outputs": [
    {
     "data": {
      "image/png": "[encoded data removed]",
      "text/plain": [
       "<Figure size 1440x504 with 1 Axes>"
      ]
     },
     "metadata": {
      "needs_background": "light"
     },
     "output_type": "display_data"
    }
   ],
   "source": [
    "fig,ax = plt.subplots(1,1,figsize = (20,7))\n",
    "ax = sns.kdeplot(drug_extracted[\"Date_OCCRD\"].dt.month.rename(\"drug related\"), shade=True)\n",
    "sns.kdeplot(drug_extractedwithout[\"Date_OCCRD\"].dt.month.rename(\"not drug related\"), ax=ax, shade=True)\n",
    "plt.title(\"Relation between drug crime days and other crime days\")\n",
    "\n",
    "plt.xlim([-1, 13])\n",
    "plt.show()"
   ]
  },
  {
   "cell_type": "code",
   "execution_count": 53,
   "metadata": {},
   "outputs": [
    {
     "data": {
      "text/plain": [
       "1.0475513665256868e-51"
      ]
     },
     "execution_count": 53,
     "metadata": {},
     "output_type": "execute_result"
    }
   ],
   "source": [
    "drugsvalues = drug_extracted[\"Date_OCCRD\"].dt.month.values\n",
    "notdrugsvalues = drug_extractedwithout[\"Date_OCCRD\"].dt.month.values\n",
    "\n",
    "\n",
    "_, p_value = stats.ttest_ind(a=drugsvalues, b=notdrugsvalues, equal_var=False)\n",
    "p_value"
   ]
  },
  {
   "cell_type": "code",
   "execution_count": 54,
   "metadata": {},
   "outputs": [],
   "source": [
    "del(drug_extracted)\n",
    "del(drug_extractedwithout)\n",
    "del(drugsvalues)\n",
    "del(notdrugsvalues)"
   ]
  },
  {
   "cell_type": "markdown",
   "metadata": {},
   "source": [
    "#### Merge datas for the next hypothesis"
   ]
  },
  {
   "cell_type": "code",
   "execution_count": 55,
   "metadata": {},
   "outputs": [
    {
     "data": {
      "text/html": [
       "<div>\n",
       "<style scoped>\n",
       "    .dataframe tbody tr th:only-of-type {\n",
       "        vertical-align: middle;\n",
       "    }\n",
       "\n",
       "    .dataframe tbody tr th {\n",
       "        vertical-align: top;\n",
       "    }\n",
       "\n",
       "    .dataframe thead th {\n",
       "        text-align: right;\n",
       "    }\n",
       "</style>\n",
       "<table border=\"1\" class=\"dataframe\">\n",
       "  <thead>\n",
       "    <tr style=\"text-align: right;\">\n",
       "      <th></th>\n",
       "      <th>OFNS_DESC</th>\n",
       "      <th>PD_DESC</th>\n",
       "      <th>BORO_NM</th>\n",
       "      <th>Latitude</th>\n",
       "      <th>Longitude</th>\n",
       "      <th>Date_OCCRD</th>\n",
       "      <th>day</th>\n",
       "    </tr>\n",
       "  </thead>\n",
       "  <tbody>\n",
       "    <tr>\n",
       "      <th>0</th>\n",
       "      <td>FORGERY</td>\n",
       "      <td>FORGERY,ETC.,UNCLASSIFIED-FELO</td>\n",
       "      <td>BRONX</td>\n",
       "      <td>40.828848</td>\n",
       "      <td>-73.916661</td>\n",
       "      <td>2015-12-31 23:45:00</td>\n",
       "      <td>3</td>\n",
       "    </tr>\n",
       "    <tr>\n",
       "      <th>1</th>\n",
       "      <td>MURDER &amp; NON-NEGL. MANSLAUGHTER</td>\n",
       "      <td>NaN</td>\n",
       "      <td>QUEENS</td>\n",
       "      <td>40.697338</td>\n",
       "      <td>-73.784557</td>\n",
       "      <td>2015-12-31 23:36:00</td>\n",
       "      <td>3</td>\n",
       "    </tr>\n",
       "    <tr>\n",
       "      <th>2</th>\n",
       "      <td>DANGEROUS DRUGS</td>\n",
       "      <td>CONTROLLED SUBSTANCE,INTENT TO</td>\n",
       "      <td>MANHATTAN</td>\n",
       "      <td>40.802607</td>\n",
       "      <td>-73.945052</td>\n",
       "      <td>2015-12-31 23:30:00</td>\n",
       "      <td>3</td>\n",
       "    </tr>\n",
       "    <tr>\n",
       "      <th>3</th>\n",
       "      <td>ASSAULT 3 &amp; RELATED OFFENSES</td>\n",
       "      <td>ASSAULT 3</td>\n",
       "      <td>QUEENS</td>\n",
       "      <td>40.654549</td>\n",
       "      <td>-73.726339</td>\n",
       "      <td>2015-12-31 23:30:00</td>\n",
       "      <td>3</td>\n",
       "    </tr>\n",
       "    <tr>\n",
       "      <th>4</th>\n",
       "      <td>ASSAULT 3 &amp; RELATED OFFENSES</td>\n",
       "      <td>ASSAULT 3</td>\n",
       "      <td>MANHATTAN</td>\n",
       "      <td>40.738002</td>\n",
       "      <td>-73.987891</td>\n",
       "      <td>2015-12-31 23:25:00</td>\n",
       "      <td>3</td>\n",
       "    </tr>\n",
       "  </tbody>\n",
       "</table>\n",
       "</div>"
      ],
      "text/plain": [
       "                         OFNS_DESC                         PD_DESC    BORO_NM  \\\n",
       "0                          FORGERY  FORGERY,ETC.,UNCLASSIFIED-FELO      BRONX   \n",
       "1  MURDER & NON-NEGL. MANSLAUGHTER                             NaN     QUEENS   \n",
       "2                  DANGEROUS DRUGS  CONTROLLED SUBSTANCE,INTENT TO  MANHATTAN   \n",
       "3     ASSAULT 3 & RELATED OFFENSES                       ASSAULT 3     QUEENS   \n",
       "4     ASSAULT 3 & RELATED OFFENSES                       ASSAULT 3  MANHATTAN   \n",
       "\n",
       "    Latitude  Longitude          Date_OCCRD  day  \n",
       "0  40.828848 -73.916661 2015-12-31 23:45:00    3  \n",
       "1  40.697338 -73.784557 2015-12-31 23:36:00    3  \n",
       "2  40.802607 -73.945052 2015-12-31 23:30:00    3  \n",
       "3  40.654549 -73.726339 2015-12-31 23:30:00    3  \n",
       "4  40.738002 -73.987891 2015-12-31 23:25:00    3  "
      ]
     },
     "execution_count": 55,
     "metadata": {},
     "output_type": "execute_result"
    }
   ],
   "source": [
    "df2.head()"
   ]
  },
  {
   "cell_type": "code",
   "execution_count": 56,
   "metadata": {},
   "outputs": [
    {
     "data": {
      "text/html": [
       "<div>\n",
       "<style scoped>\n",
       "    .dataframe tbody tr th:only-of-type {\n",
       "        vertical-align: middle;\n",
       "    }\n",
       "\n",
       "    .dataframe tbody tr th {\n",
       "        vertical-align: top;\n",
       "    }\n",
       "\n",
       "    .dataframe thead th {\n",
       "        text-align: right;\n",
       "    }\n",
       "</style>\n",
       "<table border=\"1\" class=\"dataframe\">\n",
       "  <thead>\n",
       "    <tr style=\"text-align: right;\">\n",
       "      <th></th>\n",
       "      <th>index</th>\n",
       "      <th>freq_boro</th>\n",
       "    </tr>\n",
       "  </thead>\n",
       "  <tbody>\n",
       "    <tr>\n",
       "      <th>0</th>\n",
       "      <td>BROOKLYN</td>\n",
       "      <td>0.303857</td>\n",
       "    </tr>\n",
       "    <tr>\n",
       "      <th>1</th>\n",
       "      <td>MANHATTAN</td>\n",
       "      <td>0.234074</td>\n",
       "    </tr>\n",
       "    <tr>\n",
       "      <th>2</th>\n",
       "      <td>BRONX</td>\n",
       "      <td>0.216623</td>\n",
       "    </tr>\n",
       "    <tr>\n",
       "      <th>3</th>\n",
       "      <td>QUEENS</td>\n",
       "      <td>0.198815</td>\n",
       "    </tr>\n",
       "    <tr>\n",
       "      <th>4</th>\n",
       "      <td>STATEN ISLAND</td>\n",
       "      <td>0.046630</td>\n",
       "    </tr>\n",
       "  </tbody>\n",
       "</table>\n",
       "</div>"
      ],
      "text/plain": [
       "           index  freq_boro\n",
       "0       BROOKLYN   0.303857\n",
       "1      MANHATTAN   0.234074\n",
       "2          BRONX   0.216623\n",
       "3         QUEENS   0.198815\n",
       "4  STATEN ISLAND   0.046630"
      ]
     },
     "execution_count": 56,
     "metadata": {},
     "output_type": "execute_result"
    }
   ],
   "source": [
    "freq_boro = pd.DataFrame(df2[\"BORO_NM\"].value_counts()/len(df2.index))\n",
    "freq_boro.rename(columns = {\"BORO_NM\":\"freq_boro\"}, inplace = True)\n",
    "freq_boro = freq_boro.reset_index()\n",
    "freq_boro"
   ]
  },
  {
   "cell_type": "markdown",
   "metadata": {},
   "source": [
    "For this part, and for linear regression, we need to merge the two datasets."
   ]
  },
  {
   "cell_type": "code",
   "execution_count": 57,
   "metadata": {},
   "outputs": [],
   "source": [
    "from sklearn.linear_model import LinearRegression\n",
    "\n",
    "import warnings \n",
    "warnings.simplefilter('ignore')\n",
    "\n",
    "%matplotlib inline"
   ]
  },
  {
   "cell_type": "code",
   "execution_count": 58,
   "metadata": {},
   "outputs": [
    {
     "data": {
      "text/html": [
       "<div>\n",
       "<style scoped>\n",
       "    .dataframe tbody tr th:only-of-type {\n",
       "        vertical-align: middle;\n",
       "    }\n",
       "\n",
       "    .dataframe tbody tr th {\n",
       "        vertical-align: top;\n",
       "    }\n",
       "\n",
       "    .dataframe thead th {\n",
       "        text-align: right;\n",
       "    }\n",
       "</style>\n",
       "<table border=\"1\" class=\"dataframe\">\n",
       "  <thead>\n",
       "    <tr style=\"text-align: right;\">\n",
       "      <th></th>\n",
       "      <th>CensusTract</th>\n",
       "      <th>County</th>\n",
       "      <th>Borough</th>\n",
       "      <th>TotalPop</th>\n",
       "      <th>Men</th>\n",
       "      <th>Women</th>\n",
       "      <th>Hispanic</th>\n",
       "      <th>White</th>\n",
       "      <th>Black</th>\n",
       "      <th>Native</th>\n",
       "      <th>...</th>\n",
       "      <th>Walk</th>\n",
       "      <th>OtherTransp</th>\n",
       "      <th>WorkAtHome</th>\n",
       "      <th>MeanCommute</th>\n",
       "      <th>Employed</th>\n",
       "      <th>PrivateWork</th>\n",
       "      <th>PublicWork</th>\n",
       "      <th>SelfEmployed</th>\n",
       "      <th>FamilyWork</th>\n",
       "      <th>Unemployment</th>\n",
       "    </tr>\n",
       "  </thead>\n",
       "  <tbody>\n",
       "    <tr>\n",
       "      <th>1</th>\n",
       "      <td>36005000200</td>\n",
       "      <td>Bronx</td>\n",
       "      <td>BRONX</td>\n",
       "      <td>5403</td>\n",
       "      <td>2659</td>\n",
       "      <td>2744</td>\n",
       "      <td>75.8</td>\n",
       "      <td>2.3</td>\n",
       "      <td>16.0</td>\n",
       "      <td>0.0</td>\n",
       "      <td>...</td>\n",
       "      <td>2.9</td>\n",
       "      <td>0.0</td>\n",
       "      <td>0.0</td>\n",
       "      <td>43.0</td>\n",
       "      <td>2308</td>\n",
       "      <td>80.8</td>\n",
       "      <td>16.2</td>\n",
       "      <td>2.9</td>\n",
       "      <td>0.0</td>\n",
       "      <td>7.7</td>\n",
       "    </tr>\n",
       "    <tr>\n",
       "      <th>2</th>\n",
       "      <td>36005000400</td>\n",
       "      <td>Bronx</td>\n",
       "      <td>BRONX</td>\n",
       "      <td>5915</td>\n",
       "      <td>2896</td>\n",
       "      <td>3019</td>\n",
       "      <td>62.7</td>\n",
       "      <td>3.6</td>\n",
       "      <td>30.7</td>\n",
       "      <td>0.0</td>\n",
       "      <td>...</td>\n",
       "      <td>1.4</td>\n",
       "      <td>0.5</td>\n",
       "      <td>2.1</td>\n",
       "      <td>45.0</td>\n",
       "      <td>2675</td>\n",
       "      <td>71.7</td>\n",
       "      <td>25.3</td>\n",
       "      <td>2.5</td>\n",
       "      <td>0.6</td>\n",
       "      <td>9.5</td>\n",
       "    </tr>\n",
       "    <tr>\n",
       "      <th>3</th>\n",
       "      <td>36005001600</td>\n",
       "      <td>Bronx</td>\n",
       "      <td>BRONX</td>\n",
       "      <td>5879</td>\n",
       "      <td>2558</td>\n",
       "      <td>3321</td>\n",
       "      <td>65.1</td>\n",
       "      <td>1.6</td>\n",
       "      <td>32.4</td>\n",
       "      <td>0.0</td>\n",
       "      <td>...</td>\n",
       "      <td>8.6</td>\n",
       "      <td>1.6</td>\n",
       "      <td>1.7</td>\n",
       "      <td>38.8</td>\n",
       "      <td>2120</td>\n",
       "      <td>75.0</td>\n",
       "      <td>21.3</td>\n",
       "      <td>3.8</td>\n",
       "      <td>0.0</td>\n",
       "      <td>8.7</td>\n",
       "    </tr>\n",
       "    <tr>\n",
       "      <th>4</th>\n",
       "      <td>36005001900</td>\n",
       "      <td>Bronx</td>\n",
       "      <td>BRONX</td>\n",
       "      <td>2591</td>\n",
       "      <td>1206</td>\n",
       "      <td>1385</td>\n",
       "      <td>55.4</td>\n",
       "      <td>9.0</td>\n",
       "      <td>29.0</td>\n",
       "      <td>0.0</td>\n",
       "      <td>...</td>\n",
       "      <td>3.0</td>\n",
       "      <td>2.4</td>\n",
       "      <td>6.2</td>\n",
       "      <td>45.4</td>\n",
       "      <td>1083</td>\n",
       "      <td>76.8</td>\n",
       "      <td>15.5</td>\n",
       "      <td>7.7</td>\n",
       "      <td>0.0</td>\n",
       "      <td>19.2</td>\n",
       "    </tr>\n",
       "    <tr>\n",
       "      <th>5</th>\n",
       "      <td>36005002000</td>\n",
       "      <td>Bronx</td>\n",
       "      <td>BRONX</td>\n",
       "      <td>8516</td>\n",
       "      <td>3301</td>\n",
       "      <td>5215</td>\n",
       "      <td>61.1</td>\n",
       "      <td>1.6</td>\n",
       "      <td>31.1</td>\n",
       "      <td>0.3</td>\n",
       "      <td>...</td>\n",
       "      <td>4.3</td>\n",
       "      <td>1.0</td>\n",
       "      <td>0.0</td>\n",
       "      <td>46.0</td>\n",
       "      <td>2508</td>\n",
       "      <td>71.0</td>\n",
       "      <td>21.3</td>\n",
       "      <td>7.7</td>\n",
       "      <td>0.0</td>\n",
       "      <td>17.2</td>\n",
       "    </tr>\n",
       "  </tbody>\n",
       "</table>\n",
       "<p>5 rows × 36 columns</p>\n",
       "</div>"
      ],
      "text/plain": [
       "   CensusTract County Borough  TotalPop   Men  Women  Hispanic  White  Black  \\\n",
       "1  36005000200  Bronx   BRONX      5403  2659   2744      75.8    2.3   16.0   \n",
       "2  36005000400  Bronx   BRONX      5915  2896   3019      62.7    3.6   30.7   \n",
       "3  36005001600  Bronx   BRONX      5879  2558   3321      65.1    1.6   32.4   \n",
       "4  36005001900  Bronx   BRONX      2591  1206   1385      55.4    9.0   29.0   \n",
       "5  36005002000  Bronx   BRONX      8516  3301   5215      61.1    1.6   31.1   \n",
       "\n",
       "   Native      ...       Walk  OtherTransp  WorkAtHome  MeanCommute  Employed  \\\n",
       "1     0.0      ...        2.9          0.0         0.0         43.0      2308   \n",
       "2     0.0      ...        1.4          0.5         2.1         45.0      2675   \n",
       "3     0.0      ...        8.6          1.6         1.7         38.8      2120   \n",
       "4     0.0      ...        3.0          2.4         6.2         45.4      1083   \n",
       "5     0.3      ...        4.3          1.0         0.0         46.0      2508   \n",
       "\n",
       "   PrivateWork  PublicWork  SelfEmployed  FamilyWork  Unemployment  \n",
       "1         80.8        16.2           2.9         0.0           7.7  \n",
       "2         71.7        25.3           2.5         0.6           9.5  \n",
       "3         75.0        21.3           3.8         0.0           8.7  \n",
       "4         76.8        15.5           7.7         0.0          19.2  \n",
       "5         71.0        21.3           7.7         0.0          17.2  \n",
       "\n",
       "[5 rows x 36 columns]"
      ]
     },
     "execution_count": 58,
     "metadata": {},
     "output_type": "execute_result"
    }
   ],
   "source": [
    "census_df[\"Borough\"] = census_df[\"Borough\"].astype(str)\n",
    "census_df[\"Borough\"] = census_df[\"Borough\"].str.upper()\n",
    "census_df.head()"
   ]
  },
  {
   "cell_type": "code",
   "execution_count": 59,
   "metadata": {},
   "outputs": [
    {
     "data": {
      "text/html": [
       "<div>\n",
       "<style scoped>\n",
       "    .dataframe tbody tr th:only-of-type {\n",
       "        vertical-align: middle;\n",
       "    }\n",
       "\n",
       "    .dataframe tbody tr th {\n",
       "        vertical-align: top;\n",
       "    }\n",
       "\n",
       "    .dataframe thead th {\n",
       "        text-align: right;\n",
       "    }\n",
       "</style>\n",
       "<table border=\"1\" class=\"dataframe\">\n",
       "  <thead>\n",
       "    <tr style=\"text-align: right;\">\n",
       "      <th></th>\n",
       "      <th>CensusTract</th>\n",
       "      <th>County</th>\n",
       "      <th>Borough</th>\n",
       "      <th>TotalPop</th>\n",
       "      <th>Men</th>\n",
       "      <th>Women</th>\n",
       "      <th>Hispanic</th>\n",
       "      <th>White</th>\n",
       "      <th>Black</th>\n",
       "      <th>Native</th>\n",
       "      <th>...</th>\n",
       "      <th>OtherTransp</th>\n",
       "      <th>WorkAtHome</th>\n",
       "      <th>MeanCommute</th>\n",
       "      <th>Employed</th>\n",
       "      <th>PrivateWork</th>\n",
       "      <th>PublicWork</th>\n",
       "      <th>SelfEmployed</th>\n",
       "      <th>FamilyWork</th>\n",
       "      <th>Unemployment</th>\n",
       "      <th>freq_boro</th>\n",
       "    </tr>\n",
       "  </thead>\n",
       "  <tbody>\n",
       "    <tr>\n",
       "      <th>1</th>\n",
       "      <td>36005000200</td>\n",
       "      <td>Bronx</td>\n",
       "      <td>BRONX</td>\n",
       "      <td>5403</td>\n",
       "      <td>2659</td>\n",
       "      <td>2744</td>\n",
       "      <td>75.8</td>\n",
       "      <td>2.3</td>\n",
       "      <td>16.0</td>\n",
       "      <td>0.0</td>\n",
       "      <td>...</td>\n",
       "      <td>0.0</td>\n",
       "      <td>0.0</td>\n",
       "      <td>43.0</td>\n",
       "      <td>2308</td>\n",
       "      <td>80.8</td>\n",
       "      <td>16.2</td>\n",
       "      <td>2.9</td>\n",
       "      <td>0.0</td>\n",
       "      <td>7.7</td>\n",
       "      <td>0.216623</td>\n",
       "    </tr>\n",
       "    <tr>\n",
       "      <th>2</th>\n",
       "      <td>36005000400</td>\n",
       "      <td>Bronx</td>\n",
       "      <td>BRONX</td>\n",
       "      <td>5915</td>\n",
       "      <td>2896</td>\n",
       "      <td>3019</td>\n",
       "      <td>62.7</td>\n",
       "      <td>3.6</td>\n",
       "      <td>30.7</td>\n",
       "      <td>0.0</td>\n",
       "      <td>...</td>\n",
       "      <td>0.5</td>\n",
       "      <td>2.1</td>\n",
       "      <td>45.0</td>\n",
       "      <td>2675</td>\n",
       "      <td>71.7</td>\n",
       "      <td>25.3</td>\n",
       "      <td>2.5</td>\n",
       "      <td>0.6</td>\n",
       "      <td>9.5</td>\n",
       "      <td>0.216623</td>\n",
       "    </tr>\n",
       "    <tr>\n",
       "      <th>3</th>\n",
       "      <td>36005001600</td>\n",
       "      <td>Bronx</td>\n",
       "      <td>BRONX</td>\n",
       "      <td>5879</td>\n",
       "      <td>2558</td>\n",
       "      <td>3321</td>\n",
       "      <td>65.1</td>\n",
       "      <td>1.6</td>\n",
       "      <td>32.4</td>\n",
       "      <td>0.0</td>\n",
       "      <td>...</td>\n",
       "      <td>1.6</td>\n",
       "      <td>1.7</td>\n",
       "      <td>38.8</td>\n",
       "      <td>2120</td>\n",
       "      <td>75.0</td>\n",
       "      <td>21.3</td>\n",
       "      <td>3.8</td>\n",
       "      <td>0.0</td>\n",
       "      <td>8.7</td>\n",
       "      <td>0.216623</td>\n",
       "    </tr>\n",
       "    <tr>\n",
       "      <th>4</th>\n",
       "      <td>36005001900</td>\n",
       "      <td>Bronx</td>\n",
       "      <td>BRONX</td>\n",
       "      <td>2591</td>\n",
       "      <td>1206</td>\n",
       "      <td>1385</td>\n",
       "      <td>55.4</td>\n",
       "      <td>9.0</td>\n",
       "      <td>29.0</td>\n",
       "      <td>0.0</td>\n",
       "      <td>...</td>\n",
       "      <td>2.4</td>\n",
       "      <td>6.2</td>\n",
       "      <td>45.4</td>\n",
       "      <td>1083</td>\n",
       "      <td>76.8</td>\n",
       "      <td>15.5</td>\n",
       "      <td>7.7</td>\n",
       "      <td>0.0</td>\n",
       "      <td>19.2</td>\n",
       "      <td>0.216623</td>\n",
       "    </tr>\n",
       "    <tr>\n",
       "      <th>5</th>\n",
       "      <td>36005002000</td>\n",
       "      <td>Bronx</td>\n",
       "      <td>BRONX</td>\n",
       "      <td>8516</td>\n",
       "      <td>3301</td>\n",
       "      <td>5215</td>\n",
       "      <td>61.1</td>\n",
       "      <td>1.6</td>\n",
       "      <td>31.1</td>\n",
       "      <td>0.3</td>\n",
       "      <td>...</td>\n",
       "      <td>1.0</td>\n",
       "      <td>0.0</td>\n",
       "      <td>46.0</td>\n",
       "      <td>2508</td>\n",
       "      <td>71.0</td>\n",
       "      <td>21.3</td>\n",
       "      <td>7.7</td>\n",
       "      <td>0.0</td>\n",
       "      <td>17.2</td>\n",
       "      <td>0.216623</td>\n",
       "    </tr>\n",
       "  </tbody>\n",
       "</table>\n",
       "<p>5 rows × 37 columns</p>\n",
       "</div>"
      ],
      "text/plain": [
       "   CensusTract County Borough  TotalPop   Men  Women  Hispanic  White  Black  \\\n",
       "1  36005000200  Bronx   BRONX      5403  2659   2744      75.8    2.3   16.0   \n",
       "2  36005000400  Bronx   BRONX      5915  2896   3019      62.7    3.6   30.7   \n",
       "3  36005001600  Bronx   BRONX      5879  2558   3321      65.1    1.6   32.4   \n",
       "4  36005001900  Bronx   BRONX      2591  1206   1385      55.4    9.0   29.0   \n",
       "5  36005002000  Bronx   BRONX      8516  3301   5215      61.1    1.6   31.1   \n",
       "\n",
       "   Native    ...      OtherTransp  WorkAtHome  MeanCommute  Employed  \\\n",
       "1     0.0    ...              0.0         0.0         43.0      2308   \n",
       "2     0.0    ...              0.5         2.1         45.0      2675   \n",
       "3     0.0    ...              1.6         1.7         38.8      2120   \n",
       "4     0.0    ...              2.4         6.2         45.4      1083   \n",
       "5     0.3    ...              1.0         0.0         46.0      2508   \n",
       "\n",
       "   PrivateWork  PublicWork  SelfEmployed  FamilyWork  Unemployment  freq_boro  \n",
       "1         80.8        16.2           2.9         0.0           7.7   0.216623  \n",
       "2         71.7        25.3           2.5         0.6           9.5   0.216623  \n",
       "3         75.0        21.3           3.8         0.0           8.7   0.216623  \n",
       "4         76.8        15.5           7.7         0.0          19.2   0.216623  \n",
       "5         71.0        21.3           7.7         0.0          17.2   0.216623  \n",
       "\n",
       "[5 rows x 37 columns]"
      ]
     },
     "execution_count": 59,
     "metadata": {},
     "output_type": "execute_result"
    }
   ],
   "source": [
    "def assign_crime(row):\n",
    "    if row == 'BROOKLYN':\n",
    "        return 0.303857\n",
    "    elif row == 'MANHATTAN':\n",
    "        return 0.234074\n",
    "    elif row == 'BRONX':\n",
    "        return 0.216623\n",
    "    elif row == 'QUEENS':\n",
    "        return 0.198815\n",
    "    elif row == 'STATEN ISLAND':\n",
    "        return 0.046630\n",
    "\n",
    "census_df['freq_boro'] = census_df['Borough'].apply(lambda row: assign_crime(row))\n",
    "census_df.head()"
   ]
  },
  {
   "cell_type": "markdown",
   "metadata": {},
   "source": [
    "#### How does income level affect crime rates based on borough?"
   ]
  },
  {
   "cell_type": "markdown",
   "metadata": {},
   "source": [
    "Our null hypothesis is that the income level has no affect on crime rates. For this, we set a threshold of income level:"
   ]
  },
  {
   "cell_type": "code",
   "execution_count": 60,
   "metadata": {},
   "outputs": [],
   "source": [
    "threshold = census_df[\"Income\"].mean()"
   ]
  },
  {
   "cell_type": "code",
   "execution_count": 61,
   "metadata": {},
   "outputs": [],
   "source": [
    "larger_than_threshold = census_df[census_df[\"Income\" ] >= threshold]\n",
    "smaller_than_threshold = census_df[census_df[\"Income\" ] < threshold]"
   ]
  },
  {
   "cell_type": "code",
   "execution_count": 62,
   "metadata": {},
   "outputs": [
    {
     "data": {
      "text/plain": [
       "<matplotlib.axes._subplots.AxesSubplot at 0x20080d1a470>"
      ]
     },
     "execution_count": 62,
     "metadata": {},
     "output_type": "execute_result"
    },
    {
     "data": {
      "image/png": "[encoded data removed]",
      "text/plain": [
       "<Figure size 432x288 with 1 Axes>"
      ]
     },
     "metadata": {
      "needs_background": "light"
     },
     "output_type": "display_data"
    }
   ],
   "source": [
    "ax = sns.kdeplot(larger_than_threshold[\"Borough\"].value_counts().rename(\"High Income\"), shade=True)\n",
    "sns.kdeplot(smaller_than_threshold[\"Borough\"].value_counts().rename(\"Low Income\"), ax=ax, shade=True)"
   ]
  },
  {
   "cell_type": "code",
   "execution_count": 63,
   "metadata": {},
   "outputs": [
    {
     "data": {
      "text/plain": [
       "0.6200707775350018"
      ]
     },
     "execution_count": 63,
     "metadata": {},
     "output_type": "execute_result"
    }
   ],
   "source": [
    "highincome = larger_than_threshold[\"Borough\"].value_counts()\n",
    "lowincome = smaller_than_threshold[\"Borough\"].value_counts()\n",
    "\n",
    "_, p_value = stats.ttest_ind(a=highincome, b=lowincome, equal_var=False)\n",
    "p_value"
   ]
  },
  {
   "cell_type": "markdown",
   "metadata": {},
   "source": [
    "Our p-value is 0.61. Which is larger than 0.05. We can conclude that out hypothesis is correct. Income level has no affect on crime rates."
   ]
  },
  {
   "cell_type": "markdown",
   "metadata": {},
   "source": [
    "#### Is there a relationship between crime rates and unemployment rates?"
   ]
  },
  {
   "cell_type": "markdown",
   "metadata": {},
   "source": [
    "Our null hypothesis is that unemployment rates has no affect on crime rates. For this, we set a threshold for unemployment rates."
   ]
  },
  {
   "cell_type": "code",
   "execution_count": 64,
   "metadata": {},
   "outputs": [],
   "source": [
    "threshold = census_df[\"Unemployment\"].mean()"
   ]
  },
  {
   "cell_type": "code",
   "execution_count": 65,
   "metadata": {},
   "outputs": [],
   "source": [
    "larger_than_threshold = census_df[census_df[\"Unemployment\"] >= threshold]\n",
    "smaller_than_threshold = census_df[census_df[\"Unemployment\"] < threshold]"
   ]
  },
  {
   "cell_type": "code",
   "execution_count": 66,
   "metadata": {},
   "outputs": [
    {
     "data": {
      "text/plain": [
       "<matplotlib.axes._subplots.AxesSubplot at 0x2008069e390>"
      ]
     },
     "execution_count": 66,
     "metadata": {},
     "output_type": "execute_result"
    },
    {
     "data": {
      "image/png": "[encoded data removed]",
      "text/plain": [
       "<Figure size 432x288 with 1 Axes>"
      ]
     },
     "metadata": {
      "needs_background": "light"
     },
     "output_type": "display_data"
    }
   ],
   "source": [
    "ax = sns.kdeplot(larger_than_threshold[\"Borough\"].value_counts().rename(\"High Unemployment\"), shade=True)\n",
    "sns.kdeplot(smaller_than_threshold[\"Borough\"].value_counts().rename(\"Low Unemployment\"), ax=ax, shade=True)"
   ]
  },
  {
   "cell_type": "code",
   "execution_count": 67,
   "metadata": {},
   "outputs": [
    {
     "data": {
      "text/plain": [
       "0.5409129203555005"
      ]
     },
     "execution_count": 67,
     "metadata": {},
     "output_type": "execute_result"
    }
   ],
   "source": [
    "highunemployment = larger_than_threshold[\"Borough\"].value_counts()\n",
    "lowunemployment = smaller_than_threshold[\"Borough\"].value_counts()\n",
    "\n",
    "_, p_value = stats.ttest_ind(a=highunemployment, b=lowunemployment, equal_var=False)\n",
    "p_value"
   ]
  },
  {
   "cell_type": "markdown",
   "metadata": {},
   "source": [
    "We can again see that our p-value is larger than 0.05. Therefore we can say that our hypothesis is correct. Unemployment rates has no affect on crime rates."
   ]
  },
  {
   "cell_type": "markdown",
   "metadata": {},
   "source": [
    "#### Does job type (being employed in management, business, science, arts, and service jobs) has any affect on crime rates?"
   ]
  },
  {
   "cell_type": "markdown",
   "metadata": {},
   "source": [
    "Our first hypothesis for this is that being a professional has no affect on crime rates. We set a threshold for this."
   ]
  },
  {
   "cell_type": "code",
   "execution_count": 68,
   "metadata": {},
   "outputs": [],
   "source": [
    "threshold = census_df[\"Professional\"].mean()"
   ]
  },
  {
   "cell_type": "code",
   "execution_count": 69,
   "metadata": {},
   "outputs": [],
   "source": [
    "larger_than_threshold = census_df[census_df[\"Professional\"] >= threshold]\n",
    "smaller_than_threshold = census_df[census_df[\"Professional\"] < threshold]"
   ]
  },
  {
   "cell_type": "code",
   "execution_count": 70,
   "metadata": {},
   "outputs": [
    {
     "data": {
      "text/plain": [
       "<matplotlib.axes._subplots.AxesSubplot at 0x200808085c0>"
      ]
     },
     "execution_count": 70,
     "metadata": {},
     "output_type": "execute_result"
    },
    {
     "data": {
      "image/png": "[encoded data removed]",
      "text/plain": [
       "<Figure size 432x288 with 1 Axes>"
      ]
     },
     "metadata": {
      "needs_background": "light"
     },
     "output_type": "display_data"
    }
   ],
   "source": [
    "ax = sns.kdeplot(larger_than_threshold[\"Borough\"].value_counts().rename(\"Professional\"), shade=True)\n",
    "sns.kdeplot(smaller_than_threshold[\"Borough\"].value_counts().rename(\"Not Professional\"), ax=ax, shade=True)"
   ]
  },
  {
   "cell_type": "code",
   "execution_count": 71,
   "metadata": {},
   "outputs": [
    {
     "data": {
      "text/plain": [
       "0.5856340290173976"
      ]
     },
     "execution_count": 71,
     "metadata": {},
     "output_type": "execute_result"
    }
   ],
   "source": [
    "professional = larger_than_threshold[\"Borough\"].value_counts()\n",
    "notprofessional = smaller_than_threshold[\"Borough\"].value_counts()\n",
    "\n",
    "_, p_value = stats.ttest_ind(a=professional, b=notprofessional, equal_var=False)\n",
    "p_value"
   ]
  },
  {
   "cell_type": "markdown",
   "metadata": {},
   "source": [
    "We can again conclude that our null hypothesis is correct. Professional rates has no affect on crime rates."
   ]
  },
  {
   "cell_type": "markdown",
   "metadata": {},
   "source": [
    "Our second hypothesis is that service job rates has no affect on crime rates."
   ]
  },
  {
   "cell_type": "code",
   "execution_count": 72,
   "metadata": {},
   "outputs": [],
   "source": [
    "threshold = census_df[\"Service\"].mean()"
   ]
  },
  {
   "cell_type": "code",
   "execution_count": 73,
   "metadata": {},
   "outputs": [],
   "source": [
    "larger_than_threshold = census_df[census_df[\"Service\"] >= threshold]\n",
    "smaller_than_threshold = census_df[census_df[\"Service\"] < threshold]"
   ]
  },
  {
   "cell_type": "code",
   "execution_count": 74,
   "metadata": {},
   "outputs": [
    {
     "data": {
      "text/plain": [
       "<matplotlib.axes._subplots.AxesSubplot at 0x200805a6c50>"
      ]
     },
     "execution_count": 74,
     "metadata": {},
     "output_type": "execute_result"
    },
    {
     "data": {
      "image/png": "[encoded data removed]",
      "text/plain": [
       "<Figure size 432x288 with 1 Axes>"
      ]
     },
     "metadata": {
      "needs_background": "light"
     },
     "output_type": "display_data"
    }
   ],
   "source": [
    "ax = sns.kdeplot(larger_than_threshold[\"Borough\"].value_counts().rename(\"Service\"), shade=True)\n",
    "sns.kdeplot(smaller_than_threshold[\"Borough\"].value_counts().rename(\"Not Service\"), ax=ax, shade=True)"
   ]
  },
  {
   "cell_type": "code",
   "execution_count": 75,
   "metadata": {},
   "outputs": [
    {
     "data": {
      "text/plain": [
       "0.9619418389154597"
      ]
     },
     "execution_count": 75,
     "metadata": {},
     "output_type": "execute_result"
    }
   ],
   "source": [
    "service = larger_than_threshold[\"Borough\"].value_counts()\n",
    "notservice = smaller_than_threshold[\"Borough\"].value_counts()\n",
    "\n",
    "_, p_value = stats.ttest_ind(a=service, b=notservice, equal_var=False)\n",
    "p_value"
   ]
  },
  {
   "cell_type": "markdown",
   "metadata": {},
   "source": [
    "Again, our p-value is larger than 0.05. Therefore we accept our null hypothesis. There is no affect of service employement rates and crime rates."
   ]
  },
  {
   "cell_type": "markdown",
   "metadata": {},
   "source": [
    "## Linear Regression"
   ]
  },
  {
   "cell_type": "markdown",
   "metadata": {},
   "source": [
    "Here is a correlation matrix:"
   ]
  },
  {
   "cell_type": "code",
   "execution_count": 76,
   "metadata": {},
   "outputs": [
    {
     "data": {
      "text/plain": [
       "<matplotlib.axes._subplots.AxesSubplot at 0x20080db97b8>"
      ]
     },
     "execution_count": 76,
     "metadata": {},
     "output_type": "execute_result"
    },
    {
     "data": {
      "image/png": "[encoded data removed]",
      "text/plain": [
       "<Figure size 1152x576 with 2 Axes>"
      ]
     },
     "metadata": {
      "needs_background": "light"
     },
     "output_type": "display_data"
    }
   ],
   "source": [
    "# calculate the correlation matrix\n",
    "corr = census_df.corr()\n",
    "\n",
    "plt.figure(figsize = (16,8))\n",
    "# plot the heatmap\n",
    "sns.heatmap(corr, \n",
    "        xticklabels=corr.columns,\n",
    "        yticklabels=corr.columns)"
   ]
  },
  {
   "cell_type": "markdown",
   "metadata": {},
   "source": [
    "Discard some of the feautures, and discard non-numeric columns."
   ]
  },
  {
   "cell_type": "code",
   "execution_count": 77,
   "metadata": {},
   "outputs": [
    {
     "data": {
      "text/plain": [
       "CensusTract          int64\n",
       "County              object\n",
       "Borough             object\n",
       "TotalPop             int64\n",
       "Men                  int64\n",
       "Women                int64\n",
       "Hispanic           float64\n",
       "White              float64\n",
       "Black              float64\n",
       "Native             float64\n",
       "Asian              float64\n",
       "Citizen              int64\n",
       "Income             float64\n",
       "IncomeErr          float64\n",
       "IncomePerCap       float64\n",
       "IncomePerCapErr    float64\n",
       "Poverty            float64\n",
       "ChildPoverty       float64\n",
       "Professional       float64\n",
       "Service            float64\n",
       "Office             float64\n",
       "Construction       float64\n",
       "Production         float64\n",
       "Drive              float64\n",
       "Carpool            float64\n",
       "Transit            float64\n",
       "Walk               float64\n",
       "OtherTransp        float64\n",
       "WorkAtHome         float64\n",
       "MeanCommute        float64\n",
       "Employed             int64\n",
       "PrivateWork        float64\n",
       "PublicWork         float64\n",
       "SelfEmployed       float64\n",
       "FamilyWork         float64\n",
       "Unemployment       float64\n",
       "freq_boro          float64\n",
       "dtype: object"
      ]
     },
     "execution_count": 77,
     "metadata": {},
     "output_type": "execute_result"
    }
   ],
   "source": [
    "census_df.dtypes"
   ]
  },
  {
   "cell_type": "code",
   "execution_count": 78,
   "metadata": {},
   "outputs": [],
   "source": [
    "census_df.drop([\"CensusTract\", \"County\",\"Borough\"],axis = 1 , inplace = True)  #dropping unnecessary location information"
   ]
  },
  {
   "cell_type": "code",
   "execution_count": 79,
   "metadata": {},
   "outputs": [
    {
     "data": {
      "text/html": [
       "<div>\n",
       "<style scoped>\n",
       "    .dataframe tbody tr th:only-of-type {\n",
       "        vertical-align: middle;\n",
       "    }\n",
       "\n",
       "    .dataframe tbody tr th {\n",
       "        vertical-align: top;\n",
       "    }\n",
       "\n",
       "    .dataframe thead th {\n",
       "        text-align: right;\n",
       "    }\n",
       "</style>\n",
       "<table border=\"1\" class=\"dataframe\">\n",
       "  <thead>\n",
       "    <tr style=\"text-align: right;\">\n",
       "      <th></th>\n",
       "      <th>TotalPop</th>\n",
       "      <th>Men</th>\n",
       "      <th>Women</th>\n",
       "      <th>Hispanic</th>\n",
       "      <th>White</th>\n",
       "      <th>Black</th>\n",
       "      <th>Native</th>\n",
       "      <th>Asian</th>\n",
       "      <th>Citizen</th>\n",
       "      <th>Income</th>\n",
       "      <th>...</th>\n",
       "      <th>OtherTransp</th>\n",
       "      <th>WorkAtHome</th>\n",
       "      <th>MeanCommute</th>\n",
       "      <th>Employed</th>\n",
       "      <th>PrivateWork</th>\n",
       "      <th>PublicWork</th>\n",
       "      <th>SelfEmployed</th>\n",
       "      <th>FamilyWork</th>\n",
       "      <th>Unemployment</th>\n",
       "      <th>freq_boro</th>\n",
       "    </tr>\n",
       "  </thead>\n",
       "  <tbody>\n",
       "    <tr>\n",
       "      <th>1</th>\n",
       "      <td>5403</td>\n",
       "      <td>2659</td>\n",
       "      <td>2744</td>\n",
       "      <td>75.8</td>\n",
       "      <td>2.3</td>\n",
       "      <td>16.0</td>\n",
       "      <td>0.0</td>\n",
       "      <td>4.2</td>\n",
       "      <td>3639</td>\n",
       "      <td>72034.0</td>\n",
       "      <td>...</td>\n",
       "      <td>0.0</td>\n",
       "      <td>0.0</td>\n",
       "      <td>43.0</td>\n",
       "      <td>2308</td>\n",
       "      <td>80.8</td>\n",
       "      <td>16.2</td>\n",
       "      <td>2.9</td>\n",
       "      <td>0.0</td>\n",
       "      <td>7.7</td>\n",
       "      <td>0.216623</td>\n",
       "    </tr>\n",
       "    <tr>\n",
       "      <th>2</th>\n",
       "      <td>5915</td>\n",
       "      <td>2896</td>\n",
       "      <td>3019</td>\n",
       "      <td>62.7</td>\n",
       "      <td>3.6</td>\n",
       "      <td>30.7</td>\n",
       "      <td>0.0</td>\n",
       "      <td>0.3</td>\n",
       "      <td>4100</td>\n",
       "      <td>74836.0</td>\n",
       "      <td>...</td>\n",
       "      <td>0.5</td>\n",
       "      <td>2.1</td>\n",
       "      <td>45.0</td>\n",
       "      <td>2675</td>\n",
       "      <td>71.7</td>\n",
       "      <td>25.3</td>\n",
       "      <td>2.5</td>\n",
       "      <td>0.6</td>\n",
       "      <td>9.5</td>\n",
       "      <td>0.216623</td>\n",
       "    </tr>\n",
       "    <tr>\n",
       "      <th>3</th>\n",
       "      <td>5879</td>\n",
       "      <td>2558</td>\n",
       "      <td>3321</td>\n",
       "      <td>65.1</td>\n",
       "      <td>1.6</td>\n",
       "      <td>32.4</td>\n",
       "      <td>0.0</td>\n",
       "      <td>0.0</td>\n",
       "      <td>3536</td>\n",
       "      <td>32312.0</td>\n",
       "      <td>...</td>\n",
       "      <td>1.6</td>\n",
       "      <td>1.7</td>\n",
       "      <td>38.8</td>\n",
       "      <td>2120</td>\n",
       "      <td>75.0</td>\n",
       "      <td>21.3</td>\n",
       "      <td>3.8</td>\n",
       "      <td>0.0</td>\n",
       "      <td>8.7</td>\n",
       "      <td>0.216623</td>\n",
       "    </tr>\n",
       "    <tr>\n",
       "      <th>4</th>\n",
       "      <td>2591</td>\n",
       "      <td>1206</td>\n",
       "      <td>1385</td>\n",
       "      <td>55.4</td>\n",
       "      <td>9.0</td>\n",
       "      <td>29.0</td>\n",
       "      <td>0.0</td>\n",
       "      <td>2.1</td>\n",
       "      <td>1557</td>\n",
       "      <td>37936.0</td>\n",
       "      <td>...</td>\n",
       "      <td>2.4</td>\n",
       "      <td>6.2</td>\n",
       "      <td>45.4</td>\n",
       "      <td>1083</td>\n",
       "      <td>76.8</td>\n",
       "      <td>15.5</td>\n",
       "      <td>7.7</td>\n",
       "      <td>0.0</td>\n",
       "      <td>19.2</td>\n",
       "      <td>0.216623</td>\n",
       "    </tr>\n",
       "    <tr>\n",
       "      <th>5</th>\n",
       "      <td>8516</td>\n",
       "      <td>3301</td>\n",
       "      <td>5215</td>\n",
       "      <td>61.1</td>\n",
       "      <td>1.6</td>\n",
       "      <td>31.1</td>\n",
       "      <td>0.3</td>\n",
       "      <td>3.3</td>\n",
       "      <td>5436</td>\n",
       "      <td>18086.0</td>\n",
       "      <td>...</td>\n",
       "      <td>1.0</td>\n",
       "      <td>0.0</td>\n",
       "      <td>46.0</td>\n",
       "      <td>2508</td>\n",
       "      <td>71.0</td>\n",
       "      <td>21.3</td>\n",
       "      <td>7.7</td>\n",
       "      <td>0.0</td>\n",
       "      <td>17.2</td>\n",
       "      <td>0.216623</td>\n",
       "    </tr>\n",
       "  </tbody>\n",
       "</table>\n",
       "<p>5 rows × 34 columns</p>\n",
       "</div>"
      ],
      "text/plain": [
       "   TotalPop   Men  Women  Hispanic  White  Black  Native  Asian  Citizen  \\\n",
       "1      5403  2659   2744      75.8    2.3   16.0     0.0    4.2     3639   \n",
       "2      5915  2896   3019      62.7    3.6   30.7     0.0    0.3     4100   \n",
       "3      5879  2558   3321      65.1    1.6   32.4     0.0    0.0     3536   \n",
       "4      2591  1206   1385      55.4    9.0   29.0     0.0    2.1     1557   \n",
       "5      8516  3301   5215      61.1    1.6   31.1     0.3    3.3     5436   \n",
       "\n",
       "    Income    ...      OtherTransp  WorkAtHome  MeanCommute  Employed  \\\n",
       "1  72034.0    ...              0.0         0.0         43.0      2308   \n",
       "2  74836.0    ...              0.5         2.1         45.0      2675   \n",
       "3  32312.0    ...              1.6         1.7         38.8      2120   \n",
       "4  37936.0    ...              2.4         6.2         45.4      1083   \n",
       "5  18086.0    ...              1.0         0.0         46.0      2508   \n",
       "\n",
       "   PrivateWork  PublicWork  SelfEmployed  FamilyWork  Unemployment  freq_boro  \n",
       "1         80.8        16.2           2.9         0.0           7.7   0.216623  \n",
       "2         71.7        25.3           2.5         0.6           9.5   0.216623  \n",
       "3         75.0        21.3           3.8         0.0           8.7   0.216623  \n",
       "4         76.8        15.5           7.7         0.0          19.2   0.216623  \n",
       "5         71.0        21.3           7.7         0.0          17.2   0.216623  \n",
       "\n",
       "[5 rows x 34 columns]"
      ]
     },
     "execution_count": 79,
     "metadata": {},
     "output_type": "execute_result"
    }
   ],
   "source": [
    "census_df.head()"
   ]
  },
  {
   "cell_type": "code",
   "execution_count": 80,
   "metadata": {},
   "outputs": [],
   "source": [
    "census_df = census_df.fillna(method = \"ffill\")"
   ]
  },
  {
   "cell_type": "markdown",
   "metadata": {},
   "source": [
    "We will try to predict income level using the other columns in census_df"
   ]
  },
  {
   "cell_type": "code",
   "execution_count": 152,
   "metadata": {},
   "outputs": [],
   "source": [
    "target = census_df[\"Income\"]                        #target is income\n",
    "features = census_df.drop([\"Income\"],axis = 1)      #features are the attributes other than the income"
   ]
  },
  {
   "cell_type": "code",
   "execution_count": 153,
   "metadata": {},
   "outputs": [],
   "source": [
    "from sklearn import linear_model\n",
    "model = linear_model.LinearRegression()"
   ]
  },
  {
   "cell_type": "markdown",
   "metadata": {},
   "source": [
    "###Instead of train test split we will use cross-validation (Stratified K-Fold), beacuse our dataset is really small."
   ]
  },
  {
   "cell_type": "code",
   "execution_count": 155,
   "metadata": {},
   "outputs": [
    {
     "data": {
      "text/plain": [
       "RFECV(cv=StratifiedKFold(n_splits=3, random_state=None, shuffle=False),\n",
       "   estimator=LinearRegression(copy_X=True, fit_intercept=True, n_jobs=None,\n",
       "         normalize=False),\n",
       "   min_features_to_select=1, n_jobs=None, scoring='r2', step=1, verbose=0)"
      ]
     },
     "execution_count": 155,
     "metadata": {},
     "output_type": "execute_result"
    }
   ],
   "source": [
    "from sklearn.model_selection import KFold\n",
    "from sklearn.feature_selection import RFECV\n",
    "from sklearn.model_selection import StratifiedKFold\n",
    "\n",
    "model = linear_model.LinearRegression()         # create a model that returns coef_ \n",
    "\n",
    "rfecv = RFECV(estimator=model,       # the model we have\n",
    "              step=1,                # number of features to remove at each step\n",
    "              cv=StratifiedKFold(), # cross-validation type\n",
    "              scoring='r2')    # evaluation method\n",
    "\n",
    "rfecv.fit(features, target)"
   ]
  },
  {
   "cell_type": "code",
   "execution_count": 156,
   "metadata": {},
   "outputs": [
    {
     "data": {
      "text/plain": [
       "LinearRegression(copy_X=True, fit_intercept=True, n_jobs=None,\n",
       "         normalize=False)"
      ]
     },
     "execution_count": 156,
     "metadata": {},
     "output_type": "execute_result"
    }
   ],
   "source": [
    "model.fit(features,target)"
   ]
  },
  {
   "cell_type": "code",
   "execution_count": 157,
   "metadata": {},
   "outputs": [
    {
     "data": {
      "text/plain": [
       "array([ 1.58802982e+00,  3.69817746e+00, -2.11014765e+00, -2.15118395e+02,\n",
       "       -2.76378509e+02, -2.31651297e+02, -4.45744648e+02, -2.50776654e+02,\n",
       "       -4.46377570e+00,  4.71393321e-01,  9.51053189e-01, -1.30922602e+00,\n",
       "       -5.71958595e+02,  4.73788472e+01, -1.01211933e+03, -1.33705965e+03,\n",
       "       -1.31801035e+03, -1.23031173e+03, -1.27890789e+03,  2.65842092e+03,\n",
       "        2.50727303e+03,  2.38669697e+03,  2.38122091e+03,  2.12866519e+03,\n",
       "        2.67604547e+03,  9.31249455e+01,  6.13396948e-01, -8.32040217e+02,\n",
       "       -8.10528429e+02, -8.96208989e+02, -5.18935123e+02, -2.15884385e+01,\n",
       "        2.14991418e+03])"
      ]
     },
     "execution_count": 157,
     "metadata": {},
     "output_type": "execute_result"
    }
   ],
   "source": [
    "model.coef_"
   ]
  },
  {
   "cell_type": "code",
   "execution_count": 158,
   "metadata": {},
   "outputs": [
    {
     "name": "stdout",
     "output_type": "stream",
     "text": [
      "The coefficient for TotalPop is 1.5880298184095873\n",
      "The coefficient for Men is 3.698177460162572\n",
      "The coefficient for Women is -2.110147653147371\n",
      "The coefficient for Hispanic is -215.11839469515905\n",
      "The coefficient for White is -276.37850854674235\n",
      "The coefficient for Black is -231.65129653519068\n",
      "The coefficient for Native is -445.7446480397958\n",
      "The coefficient for Asian is -250.7766544770946\n",
      "The coefficient for Citizen is -4.463775701978594\n",
      "The coefficient for IncomeErr is 0.4713933210909006\n",
      "The coefficient for IncomePerCap is 0.9510531886374707\n",
      "The coefficient for IncomePerCapErr is -1.3092260193415086\n",
      "The coefficient for Poverty is -571.9585954247794\n",
      "The coefficient for ChildPoverty is 47.378847203421685\n",
      "The coefficient for Professional is -1012.1193338770875\n",
      "The coefficient for Service is -1337.0596546609636\n",
      "The coefficient for Office is -1318.010352637215\n",
      "The coefficient for Construction is -1230.3117335774039\n",
      "The coefficient for Production is -1278.9078879357096\n",
      "The coefficient for Drive is 2658.420924971243\n",
      "The coefficient for Carpool is 2507.273032410938\n",
      "The coefficient for Transit is 2386.6969702969404\n",
      "The coefficient for Walk is 2381.2209056589254\n",
      "The coefficient for OtherTransp is 2128.66519060997\n",
      "The coefficient for WorkAtHome is 2676.0454724467577\n",
      "The coefficient for MeanCommute is 93.1249455252617\n",
      "The coefficient for Employed is 0.6133969475747647\n",
      "The coefficient for PrivateWork is -832.0402167447077\n",
      "The coefficient for PublicWork is -810.5284287684784\n",
      "The coefficient for SelfEmployed is -896.208988914537\n",
      "The coefficient for FamilyWork is -518.9351227132652\n",
      "The coefficient for Unemployment is -21.58843848025363\n",
      "The coefficient for freq_boro is 2149.9141778146122\n"
     ]
    }
   ],
   "source": [
    "for index, col_name in enumerate(features.columns):\n",
    "    print(\"The coefficient for {} is {}\".format(col_name, model.coef_[index]))"
   ]
  },
  {
   "cell_type": "code",
   "execution_count": 163,
   "metadata": {},
   "outputs": [
    {
     "data": {
      "text/plain": [
       "0.878660433707007"
      ]
     },
     "execution_count": 163,
     "metadata": {},
     "output_type": "execute_result"
    }
   ],
   "source": [
    "model.score(features, target)   #accuracy of this model/r^2"
   ]
  },
  {
   "cell_type": "markdown",
   "metadata": {},
   "source": [
    "Accuracy of the linear regression model is high, which means our prediciton of income level is really close to the real values."
   ]
  },
  {
   "cell_type": "code",
   "execution_count": 160,
   "metadata": {},
   "outputs": [
    {
     "name": "stdout",
     "output_type": "stream",
     "text": [
      "100614590.7638951\n"
     ]
    }
   ],
   "source": [
    "from sklearn.metrics import mean_squared_error\n",
    "\n",
    "y_predict = model.predict(features)\n",
    "\n",
    "lr_mse = mean_squared_error(y_predict, target)\n",
    "\n",
    "print(lr_mse)   #mean squared error of the model"
   ]
  },
  {
   "cell_type": "code",
   "execution_count": 161,
   "metadata": {},
   "outputs": [
    {
     "data": {
      "text/plain": [
       "<matplotlib.collections.PathCollection at 0x200821b0ef0>"
      ]
     },
     "execution_count": 161,
     "metadata": {},
     "output_type": "execute_result"
    },
    {
     "data": {
      "image/png": "[encoded data removed]",
      "text/plain": [
       "<Figure size 432x288 with 1 Axes>"
      ]
     },
     "metadata": {
      "needs_background": "light"
     },
     "output_type": "display_data"
    }
   ],
   "source": [
    "plt.scatter(features[\"freq_boro\"], target, color='black')\n",
    "plt.scatter(features[\"freq_boro\"], y_predict, color='blue', linewidth=3)"
   ]
  },
  {
   "cell_type": "markdown",
   "metadata": {},
   "source": [
    "Our regression model predicts with mean squared error 100614590.7638951, and r^2 0.87. The graph looks like it is seperated into 5 x values, but this is expected because we have 5 Boroughs. We tried to add more location information to our census_df through census tract infos, and to our main dataframe through coordinates, but we couldn't merge them. "
   ]
  },
  {
   "cell_type": "markdown",
   "metadata": {},
   "source": [
    "## Machine Learning Techniques"
   ]
  },
  {
   "cell_type": "markdown",
   "metadata": {},
   "source": [
    "#### Selecting Best-K Attributes"
   ]
  },
  {
   "cell_type": "code",
   "execution_count": 89,
   "metadata": {},
   "outputs": [],
   "source": [
    "features = census_df.drop([\"Income\"], axis=1).values\n",
    "target = census_df[\"Income\"].values"
   ]
  },
  {
   "cell_type": "code",
   "execution_count": 90,
   "metadata": {},
   "outputs": [],
   "source": [
    "from sklearn.feature_selection import SelectKBest  # selection method\n",
    "from sklearn.feature_selection import f_classif    # univariate test"
   ]
  },
  {
   "cell_type": "code",
   "execution_count": 91,
   "metadata": {},
   "outputs": [
    {
     "data": {
      "text/plain": [
       "array([[2.2180e+04, 2.2060e+03, 2.0000e+01, 2.0700e+01, 2.9000e+00],\n",
       "       [2.7700e+04, 2.4490e+03, 1.3200e+01, 2.3600e+01, 1.4000e+00],\n",
       "       [1.7526e+04, 2.9450e+03, 2.6300e+01, 3.5900e+01, 8.6000e+00],\n",
       "       ...,\n",
       "       [1.2753e+04, 2.4390e+03, 3.9300e+01, 5.1400e+01, 9.5000e+00],\n",
       "       [1.6303e+04, 2.8180e+03, 4.1200e+01, 5.3800e+01, 5.0000e-01],\n",
       "       [3.4261e+04, 1.0543e+04, 2.0500e+01, 1.6500e+01, 4.9000e+00]])"
      ]
     },
     "execution_count": 91,
     "metadata": {},
     "output_type": "execute_result"
    }
   ],
   "source": [
    "selector = SelectKBest(f_classif, k=5)  # test method and number of attributes\n",
    "selected_attr = selector.fit_transform(features, target)"
   ]
  },
  {
   "cell_type": "markdown",
   "metadata": {},
   "source": [
    "### Model-Based Feature Selection"
   ]
  },
  {
   "cell_type": "markdown",
   "metadata": {},
   "source": [
    "Since we want to predict income level, using other features in our dataset; we decided to choose regression models; logistic regression and decision-tree."
   ]
  },
  {
   "cell_type": "markdown",
   "metadata": {},
   "source": [
    "Model 1: Logistic Regression"
   ]
  },
  {
   "cell_type": "code",
   "execution_count": 98,
   "metadata": {},
   "outputs": [],
   "source": [
    "from sklearn.linear_model import LogisticRegression\n",
    "from sklearn.feature_selection import RFECV\n",
    "from sklearn.model_selection import StratifiedKFold"
   ]
  },
  {
   "cell_type": "code",
   "execution_count": 99,
   "metadata": {},
   "outputs": [
    {
     "data": {
      "text/plain": [
       "RFECV(cv=StratifiedKFold(n_splits=2, random_state=None, shuffle=False),\n",
       "   estimator=LogisticRegression(C=1.0, class_weight=None, dual=False, fit_intercept=True,\n",
       "          intercept_scaling=1, max_iter=100, multi_class='warn',\n",
       "          n_jobs=None, penalty='l2', random_state=None, solver='warn',\n",
       "          tol=0.0001, verbose=0, warm_start=False),\n",
       "   min_features_to_select=1, n_jobs=None, scoring='accuracy', step=1,\n",
       "   verbose=0)"
      ]
     },
     "execution_count": 99,
     "metadata": {},
     "output_type": "execute_result"
    }
   ],
   "source": [
    "model = LogisticRegression()         # create a model that returns coef_ \n",
    "\n",
    "rfecv = RFECV(estimator=model,       # the model we have\n",
    "              step=1,                # number of features to remove at each step\n",
    "              cv=StratifiedKFold(n_splits = 5), # cross-validation type\n",
    "              scoring='accuracy')    # evaluation method\n",
    "\n",
    "rfecv.fit(features, target)"
   ]
  },
  {
   "cell_type": "code",
   "execution_count": 100,
   "metadata": {},
   "outputs": [
    {
     "data": {
      "text/plain": [
       "16"
      ]
     },
     "execution_count": 100,
     "metadata": {},
     "output_type": "execute_result"
    }
   ],
   "source": [
    "rfecv.n_features_  # number of features"
   ]
  },
  {
   "cell_type": "code",
   "execution_count": 101,
   "metadata": {},
   "outputs": [
    {
     "data": {
      "text/plain": [
       "array([15, 10, 12,  5,  1,  1,  8,  1, 13, 17, 18, 16,  1,  4,  6,  1,  1,\n",
       "        1,  1,  3,  1,  7,  1,  1,  1,  1, 11,  2,  1,  1,  9,  1, 14])"
      ]
     },
     "execution_count": 101,
     "metadata": {},
     "output_type": "execute_result"
    }
   ],
   "source": [
    "rfecv.ranking_  # Selected features are assigned rank 1."
   ]
  },
  {
   "cell_type": "code",
   "execution_count": 102,
   "metadata": {},
   "outputs": [
    {
     "data": {
      "text/plain": [
       "array([False, False, False, False,  True,  True, False,  True, False,\n",
       "       False, False, False,  True, False, False,  True,  True,  True,\n",
       "        True, False,  True, False,  True,  True,  True,  True, False,\n",
       "       False,  True,  True, False,  True, False])"
      ]
     },
     "execution_count": 102,
     "metadata": {},
     "output_type": "execute_result"
    }
   ],
   "source": [
    "rfecv.support_  # the mask of selected features"
   ]
  },
  {
   "cell_type": "code",
   "execution_count": 103,
   "metadata": {},
   "outputs": [
    {
     "data": {
      "text/html": [
       "<div>\n",
       "<style scoped>\n",
       "    .dataframe tbody tr th:only-of-type {\n",
       "        vertical-align: middle;\n",
       "    }\n",
       "\n",
       "    .dataframe tbody tr th {\n",
       "        vertical-align: top;\n",
       "    }\n",
       "\n",
       "    .dataframe thead th {\n",
       "        text-align: right;\n",
       "    }\n",
       "</style>\n",
       "<table border=\"1\" class=\"dataframe\">\n",
       "  <thead>\n",
       "    <tr style=\"text-align: right;\">\n",
       "      <th></th>\n",
       "      <th>White</th>\n",
       "      <th>Black</th>\n",
       "      <th>Asian</th>\n",
       "      <th>Poverty</th>\n",
       "      <th>Service</th>\n",
       "      <th>Office</th>\n",
       "      <th>Construction</th>\n",
       "      <th>Production</th>\n",
       "      <th>Carpool</th>\n",
       "      <th>Walk</th>\n",
       "      <th>OtherTransp</th>\n",
       "      <th>WorkAtHome</th>\n",
       "      <th>MeanCommute</th>\n",
       "      <th>PublicWork</th>\n",
       "      <th>SelfEmployed</th>\n",
       "      <th>Unemployment</th>\n",
       "    </tr>\n",
       "  </thead>\n",
       "  <tbody>\n",
       "    <tr>\n",
       "      <th>1</th>\n",
       "      <td>2.3</td>\n",
       "      <td>16.0</td>\n",
       "      <td>4.2</td>\n",
       "      <td>20.0</td>\n",
       "      <td>17.1</td>\n",
       "      <td>23.9</td>\n",
       "      <td>8.0</td>\n",
       "      <td>22.3</td>\n",
       "      <td>13.7</td>\n",
       "      <td>2.9</td>\n",
       "      <td>0.0</td>\n",
       "      <td>0.0</td>\n",
       "      <td>43.0</td>\n",
       "      <td>16.2</td>\n",
       "      <td>2.9</td>\n",
       "      <td>7.7</td>\n",
       "    </tr>\n",
       "    <tr>\n",
       "      <th>2</th>\n",
       "      <td>3.6</td>\n",
       "      <td>30.7</td>\n",
       "      <td>0.3</td>\n",
       "      <td>13.2</td>\n",
       "      <td>23.4</td>\n",
       "      <td>24.9</td>\n",
       "      <td>9.0</td>\n",
       "      <td>10.5</td>\n",
       "      <td>10.0</td>\n",
       "      <td>1.4</td>\n",
       "      <td>0.5</td>\n",
       "      <td>2.1</td>\n",
       "      <td>45.0</td>\n",
       "      <td>25.3</td>\n",
       "      <td>2.5</td>\n",
       "      <td>9.5</td>\n",
       "    </tr>\n",
       "    <tr>\n",
       "      <th>3</th>\n",
       "      <td>1.6</td>\n",
       "      <td>32.4</td>\n",
       "      <td>0.0</td>\n",
       "      <td>26.3</td>\n",
       "      <td>36.1</td>\n",
       "      <td>26.2</td>\n",
       "      <td>4.9</td>\n",
       "      <td>13.8</td>\n",
       "      <td>5.3</td>\n",
       "      <td>8.6</td>\n",
       "      <td>1.6</td>\n",
       "      <td>1.7</td>\n",
       "      <td>38.8</td>\n",
       "      <td>21.3</td>\n",
       "      <td>3.8</td>\n",
       "      <td>8.7</td>\n",
       "    </tr>\n",
       "    <tr>\n",
       "      <th>4</th>\n",
       "      <td>9.0</td>\n",
       "      <td>29.0</td>\n",
       "      <td>2.1</td>\n",
       "      <td>37.1</td>\n",
       "      <td>20.9</td>\n",
       "      <td>26.2</td>\n",
       "      <td>6.6</td>\n",
       "      <td>11.0</td>\n",
       "      <td>5.3</td>\n",
       "      <td>3.0</td>\n",
       "      <td>2.4</td>\n",
       "      <td>6.2</td>\n",
       "      <td>45.4</td>\n",
       "      <td>15.5</td>\n",
       "      <td>7.7</td>\n",
       "      <td>19.2</td>\n",
       "    </tr>\n",
       "    <tr>\n",
       "      <th>5</th>\n",
       "      <td>1.6</td>\n",
       "      <td>31.1</td>\n",
       "      <td>3.3</td>\n",
       "      <td>53.2</td>\n",
       "      <td>41.1</td>\n",
       "      <td>16.7</td>\n",
       "      <td>7.1</td>\n",
       "      <td>20.6</td>\n",
       "      <td>7.0</td>\n",
       "      <td>4.3</td>\n",
       "      <td>1.0</td>\n",
       "      <td>0.0</td>\n",
       "      <td>46.0</td>\n",
       "      <td>21.3</td>\n",
       "      <td>7.7</td>\n",
       "      <td>17.2</td>\n",
       "    </tr>\n",
       "  </tbody>\n",
       "</table>\n",
       "</div>"
      ],
      "text/plain": [
       "   White  Black  Asian  Poverty  Service  Office  Construction  Production  \\\n",
       "1    2.3   16.0    4.2     20.0     17.1    23.9           8.0        22.3   \n",
       "2    3.6   30.7    0.3     13.2     23.4    24.9           9.0        10.5   \n",
       "3    1.6   32.4    0.0     26.3     36.1    26.2           4.9        13.8   \n",
       "4    9.0   29.0    2.1     37.1     20.9    26.2           6.6        11.0   \n",
       "5    1.6   31.1    3.3     53.2     41.1    16.7           7.1        20.6   \n",
       "\n",
       "   Carpool  Walk  OtherTransp  WorkAtHome  MeanCommute  PublicWork  \\\n",
       "1     13.7   2.9          0.0         0.0         43.0        16.2   \n",
       "2     10.0   1.4          0.5         2.1         45.0        25.3   \n",
       "3      5.3   8.6          1.6         1.7         38.8        21.3   \n",
       "4      5.3   3.0          2.4         6.2         45.4        15.5   \n",
       "5      7.0   4.3          1.0         0.0         46.0        21.3   \n",
       "\n",
       "   SelfEmployed  Unemployment  \n",
       "1           2.9           7.7  \n",
       "2           2.5           9.5  \n",
       "3           3.8           8.7  \n",
       "4           7.7          19.2  \n",
       "5           7.7          17.2  "
      ]
     },
     "execution_count": 103,
     "metadata": {},
     "output_type": "execute_result"
    }
   ],
   "source": [
    "f_df = census_df.drop([\"Income\"], axis=1)\n",
    "census_df[f_df.columns[rfecv.support_]].head()  # resulting features from RFE"
   ]
  },
  {
   "cell_type": "markdown",
   "metadata": {},
   "source": [
    "Model 2: Decision Tree"
   ]
  },
  {
   "cell_type": "code",
   "execution_count": 177,
   "metadata": {},
   "outputs": [],
   "source": [
    "from sklearn.tree import DecisionTreeClassifier\n",
    "from sklearn.feature_selection import SelectFromModel\n",
    "from sklearn import metrics"
   ]
  },
  {
   "cell_type": "code",
   "execution_count": 178,
   "metadata": {},
   "outputs": [
    {
     "data": {
      "text/plain": [
       "DecisionTreeClassifier(class_weight=None, criterion='gini', max_depth=None,\n",
       "            max_features=None, max_leaf_nodes=None,\n",
       "            min_impurity_decrease=0.0, min_impurity_split=None,\n",
       "            min_samples_leaf=1, min_samples_split=2,\n",
       "            min_weight_fraction_leaf=0.0, presort=False, random_state=None,\n",
       "            splitter='best')"
      ]
     },
     "execution_count": 178,
     "metadata": {},
     "output_type": "execute_result"
    }
   ],
   "source": [
    "model = DecisionTreeClassifier()\n",
    "model.fit(features, target)"
   ]
  },
  {
   "cell_type": "code",
   "execution_count": 184,
   "metadata": {},
   "outputs": [
    {
     "data": {
      "text/plain": [
       "RandomForestClassifier(bootstrap=True, class_weight=None, criterion='gini',\n",
       "            max_depth=None, max_features='auto', max_leaf_nodes=None,\n",
       "            min_impurity_decrease=0.0, min_impurity_split=None,\n",
       "            min_samples_leaf=1, min_samples_split=2,\n",
       "            min_weight_fraction_leaf=0.0, n_estimators=10, n_jobs=None,\n",
       "            oob_score=False, random_state=42, verbose=0, warm_start=False)"
      ]
     },
     "execution_count": 184,
     "metadata": {},
     "output_type": "execute_result"
    }
   ],
   "source": [
    "from sklearn.ensemble import RandomForestClassifier\n",
    "rf  = RandomForestClassifier(random_state = 42)\n",
    "rf.fit(features, target)"
   ]
  },
  {
   "cell_type": "code",
   "execution_count": 185,
   "metadata": {},
   "outputs": [
    {
     "data": {
      "text/plain": [
       "array([0.03422662, 0.03428739, 0.03164795, 0.02546481, 0.02875099,\n",
       "       0.02920362, 0.0171437 , 0.03330579, 0.03415551, 0.03634322,\n",
       "       0.02885746, 0.03122345, 0.0385715 , 0.03325259, 0.03211601,\n",
       "       0.03335752, 0.03686365, 0.03202522, 0.0294465 , 0.02795912,\n",
       "       0.03387354, 0.0364502 , 0.02952643, 0.03157971, 0.03333497,\n",
       "       0.02582137, 0.0364989 , 0.01952477, 0.0322553 , 0.0304098 ,\n",
       "       0.01249361, 0.03002781, 0.02000098])"
      ]
     },
     "execution_count": 185,
     "metadata": {},
     "output_type": "execute_result"
    }
   ],
   "source": [
    "model.feature_importances_  # resulting feature importances"
   ]
  },
  {
   "cell_type": "code",
   "execution_count": 115,
   "metadata": {},
   "outputs": [
    {
     "data": {
      "image/png": "[encoded data removed]",
      "text/plain": [
       "<Figure size 864x864 with 1 Axes>"
      ]
     },
     "metadata": {
      "needs_background": "light"
     },
     "output_type": "display_data"
    }
   ],
   "source": [
    "# Creating a bar plot for feature importances\n",
    "\n",
    "# Firstly creating a Pandas Series to match feature importances values and their indices, also sorting them in decreasing order\n",
    "feature_importances = pd.Series(model.feature_importances_, index=features.columns).sort_values(ascending=False)\n",
    "\n",
    "plt.figure(figsize=(12, 12))\n",
    "sns.barplot(x=feature_importances, y=feature_importances.index)\n",
    "\n",
    "# Add labels to our graph  \n",
    "plt.xlabel('Feature Importance Score')\n",
    "plt.ylabel('Features')\n",
    "plt.title(\"Feature Importance Rankings\")\n",
    "plt.show()"
   ]
  },
  {
   "cell_type": "code",
   "execution_count": 107,
   "metadata": {},
   "outputs": [],
   "source": [
    "clf = SelectFromModel(\n",
    "            model,              # resulting model\n",
    "            prefit=True,        # model is already trained\n",
    "            threshold=\"median\"  # median of importances is the threshold\n",
    "        )"
   ]
  },
  {
   "cell_type": "code",
   "execution_count": 108,
   "metadata": {},
   "outputs": [
    {
     "data": {
      "text/plain": [
       "array([[5403. , 2659. , 2744. , ..., 2308. ,   80.8,   16.2],\n",
       "       [5915. , 2896. , 3019. , ..., 2675. ,   71.7,   25.3],\n",
       "       [5879. , 2558. , 3321. , ..., 2120. ,   75. ,   21.3],\n",
       "       ...,\n",
       "       [2550. ,  953. , 1597. , ...,  710. ,   73.8,   21.8],\n",
       "       [4611. , 2043. , 2568. , ..., 1308. ,   84.7,   12.6],\n",
       "       [1131. ,  597. ,  534. , ...,  534. ,   65. ,   31.1]])"
      ]
     },
     "execution_count": 108,
     "metadata": {},
     "output_type": "execute_result"
    }
   ],
   "source": [
    "clf.transform(features)  # selected subset from the original features"
   ]
  },
  {
   "cell_type": "code",
   "execution_count": 186,
   "metadata": {},
   "outputs": [
    {
     "name": "stdout",
     "output_type": "stream",
     "text": [
      "Accuracy of the random forest model:  1.0\n"
     ]
    }
   ],
   "source": [
    "pred_dtree = model.predict(features)\n",
    "print(\"Accuracy of the random forest model: \",metrics.accuracy_score(target, pred_dtree))"
   ]
  },
  {
   "cell_type": "code",
   "execution_count": 187,
   "metadata": {},
   "outputs": [
    {
     "name": "stdout",
     "output_type": "stream",
     "text": [
      "Accuracy of the random forest model:  0.9976201808662541\n"
     ]
    }
   ],
   "source": [
    "pred_rf = rf.predict(features)\n",
    "print(\"Accuracy of the random forest model: \",metrics.accuracy_score(target, pred_rf))"
   ]
  },
  {
   "cell_type": "markdown",
   "metadata": {},
   "source": [
    "Accuracy of decision-tree model is really high (almost perfect). That's why it is the best machine learning model to represent our data."
   ]
  }
 ],
 "metadata": {
  "kernelspec": {
   "display_name": "Python 3",
   "language": "python",
   "name": "python3"
  },
  "language_info": {
   "codemirror_mode": {
    "name": "ipython",
    "version": 3
   },
   "file_extension": ".py",
   "mimetype": "text/x-python",
   "name": "python",
   "nbconvert_exporter": "python",
   "pygments_lexer": "ipython3",
   "version": "3.7.1"
  }
 },
 "nbformat": 4,
 "nbformat_minor": 2
}
